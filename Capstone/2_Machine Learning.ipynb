{
 "cells": [
  {
   "cell_type": "code",
   "execution_count": 1,
   "metadata": {},
   "outputs": [],
   "source": [
    "%matplotlib inline\n",
    "import pandas as pd\n",
    "import matplotlib.pyplot as plt\n",
    "import numpy as np\n",
    "import seaborn as sns\n",
    "sns.set()"
   ]
  },
  {
   "cell_type": "code",
   "execution_count": 2,
   "metadata": {},
   "outputs": [],
   "source": [
    "orders_merged = pd.read_csv('data__for__ml.csv', index_col=0, engine='python')"
   ]
  },
  {
   "cell_type": "code",
   "execution_count": 3,
   "metadata": {},
   "outputs": [
    {
     "name": "stderr",
     "output_type": "stream",
     "text": [
      "/anaconda3/lib/python3.7/site-packages/ipykernel_launcher.py:4: SettingWithCopyWarning: \n",
      "A value is trying to be set on a copy of a slice from a DataFrame.\n",
      "Try using .loc[row_indexer,col_indexer] = value instead\n",
      "\n",
      "See the caveats in the documentation: http://pandas.pydata.org/pandas-docs/stable/indexing.html#indexing-view-versus-copy\n",
      "  after removing the cwd from sys.path.\n",
      "/anaconda3/lib/python3.7/site-packages/ipykernel_launcher.py:5: SettingWithCopyWarning: \n",
      "A value is trying to be set on a copy of a slice from a DataFrame.\n",
      "Try using .loc[row_indexer,col_indexer] = value instead\n",
      "\n",
      "See the caveats in the documentation: http://pandas.pydata.org/pandas-docs/stable/indexing.html#indexing-view-versus-copy\n",
      "  \"\"\"\n",
      "/anaconda3/lib/python3.7/site-packages/ipykernel_launcher.py:6: SettingWithCopyWarning: \n",
      "A value is trying to be set on a copy of a slice from a DataFrame.\n",
      "Try using .loc[row_indexer,col_indexer] = value instead\n",
      "\n",
      "See the caveats in the documentation: http://pandas.pydata.org/pandas-docs/stable/indexing.html#indexing-view-versus-copy\n",
      "  \n",
      "/anaconda3/lib/python3.7/site-packages/ipykernel_launcher.py:7: SettingWithCopyWarning: \n",
      "A value is trying to be set on a copy of a slice from a DataFrame.\n",
      "Try using .loc[row_indexer,col_indexer] = value instead\n",
      "\n",
      "See the caveats in the documentation: http://pandas.pydata.org/pandas-docs/stable/indexing.html#indexing-view-versus-copy\n",
      "  import sys\n",
      "/anaconda3/lib/python3.7/site-packages/ipykernel_launcher.py:8: SettingWithCopyWarning: \n",
      "A value is trying to be set on a copy of a slice from a DataFrame.\n",
      "Try using .loc[row_indexer,col_indexer] = value instead\n",
      "\n",
      "See the caveats in the documentation: http://pandas.pydata.org/pandas-docs/stable/indexing.html#indexing-view-versus-copy\n",
      "  \n",
      "/anaconda3/lib/python3.7/site-packages/ipykernel_launcher.py:9: SettingWithCopyWarning: \n",
      "A value is trying to be set on a copy of a slice from a DataFrame.\n",
      "Try using .loc[row_indexer,col_indexer] = value instead\n",
      "\n",
      "See the caveats in the documentation: http://pandas.pydata.org/pandas-docs/stable/indexing.html#indexing-view-versus-copy\n",
      "  if __name__ == '__main__':\n",
      "/anaconda3/lib/python3.7/site-packages/ipykernel_launcher.py:10: SettingWithCopyWarning: \n",
      "A value is trying to be set on a copy of a slice from a DataFrame.\n",
      "Try using .loc[row_indexer,col_indexer] = value instead\n",
      "\n",
      "See the caveats in the documentation: http://pandas.pydata.org/pandas-docs/stable/indexing.html#indexing-view-versus-copy\n",
      "  # Remove the CWD from sys.path while we load stuff.\n",
      "/anaconda3/lib/python3.7/site-packages/ipykernel_launcher.py:11: SettingWithCopyWarning: \n",
      "A value is trying to be set on a copy of a slice from a DataFrame.\n",
      "Try using .loc[row_indexer,col_indexer] = value instead\n",
      "\n",
      "See the caveats in the documentation: http://pandas.pydata.org/pandas-docs/stable/indexing.html#indexing-view-versus-copy\n",
      "  # This is added back by InteractiveShellApp.init_path()\n"
     ]
    }
   ],
   "source": [
    "# Cleaning up data for classificiations\n",
    "\n",
    "orders_merged_delegate = orders_merged[orders_merged.Registration_Type == 'Delegate']\n",
    "orders_merged_delegate['EQ_perc_of_ttl_Rev'] = orders_merged_delegate['EQ_perc_of_ttl_Rev'].replace('[\\%, ]', '', regex=True)\n",
    "orders_merged_delegate['Mktg_perc_of_ttl_Rev'] = orders_merged_delegate['Mktg_perc_of_ttl_Rev'].replace('[\\%, ]', '', regex=True)\n",
    "orders_merged_delegate['Sales_perc_of_ttl_rev'] = orders_merged_delegate['Sales_perc_of_ttl_rev'].replace('[\\%, ]', '', regex=True)\n",
    "orders_merged_delegate['Active_Conversion_Rate'] = orders_merged_delegate['Active_Conversion_Rate'].replace('[\\%, ]', '', regex=True)\n",
    "orders_merged_delegate['Passive_Conversion_Rate'] = orders_merged_delegate['Passive_Conversion_Rate'].replace('[\\%, ]', '', regex=True)\n",
    "orders_merged_delegate['ROI__fcst'] = orders_merged_delegate['ROI__fcst'].replace('[\\%, ]', '', regex=True)\n",
    "orders_merged_delegate['ROI__act'] = orders_merged_delegate['ROI__act'].replace('[\\%, ]', '', regex=True)\n",
    "orders_merged_delegate['Sales_and_Mktg_ROI'] = orders_merged_delegate['Sales_and_Mktg_ROI'].replace('[\\%, ]', '', regex=True)\n",
    "orders_merged_delegate = orders_merged_delegate.drop('Event_Plan_Start_Date', 1)\n",
    "orders_merged_delegate = orders_merged_delegate.drop('Event_Plan_Date', 1)\n",
    "orders_merged_delegate = orders_merged_delegate.drop('Order_Date', 1)\n",
    "orders_merged_delegate = orders_merged_delegate.drop('Event_Plan_Name', 1)\n",
    "orders_merged_delegate = orders_merged_delegate.drop('Promotion_Plan', 1)\n",
    "orders_merged_delegate = orders_merged_delegate.drop('Type', 1)\n",
    "orders_merged_delegate = pd.concat([orders_merged_delegate.drop('Topic_Area', axis=1)\\\n",
    "                                    , pd.get_dummies(orders_merged_delegate['Topic_Area'])], axis=1)\n",
    "orders_merged_delegate = pd.concat([orders_merged_delegate.drop('job_title', axis=1)\\\n",
    "                                    , pd.get_dummies(orders_merged_delegate['job_title'])], axis=1)\n",
    "orders_merged_delegate = pd.concat([orders_merged_delegate.drop('Sales_Source_Cat', axis=1)\\\n",
    "                                    , pd.get_dummies(orders_merged_delegate['Sales_Source_Cat'])], axis=1)\n",
    "orders_merged_delegate = orders_merged_delegate.drop('Sales_Source', axis=1)\n",
    "orders_merged_delegate = pd.concat([orders_merged_delegate.drop('Sales_Method', axis=1)\\\n",
    "                                    , pd.get_dummies(orders_merged_delegate['Sales_Method'])], axis=1)\n",
    "orders_merged_delegate = orders_merged_delegate.drop('Registration_Type', 1)\n",
    "orders_merged_delegate = orders_merged_delegate.drop('Contact_Job_Title', 1)\n",
    "orders_merged_delegate = orders_merged_delegate.drop('Registration_Channel', 1)\n",
    "orders_merged_delegate = orders_merged_delegate.drop('Order_Number', 1)\n",
    "orders_merged_delegate = orders_merged_delegate.drop('MAC', 1)\n",
    "orders_merged_delegate = orders_merged_delegate.drop('Currency', 1)\n",
    "orders_merged_delegate = orders_merged_delegate.drop('Contact_Job_Function', 1)\n",
    "orders_merged_delegate = orders_merged_delegate.drop('Campaign_Name', 1)\n",
    "orders_merged_delegate = orders_merged_delegate.drop('Account_Name', 1)\n",
    "orders_merged_delegate = orders_merged_delegate.drop('Account_Market', 1)\n",
    "orders_merged_delegate = pd.concat([orders_merged_delegate.drop('Price_List_Type', axis=1)\\\n",
    "                                    , pd.get_dummies(orders_merged_delegate['Price_List_Type'])], axis=1)\n",
    "orders_merged_delegate = orders_merged_delegate.drop('Price_List', 1)\n",
    "orders_merged_delegate = orders_merged_delegate.drop('Created', 1)\n",
    "orders_merged_delegate = orders_merged_delegate.drop('Account_SIC', 1)\n",
    "orders_merged_delegate = orders_merged_delegate.drop('Upsell', 1)\n",
    "orders_merged_delegate = orders_merged_delegate.drop('Sales_and_Mktg_ROI', 1)\n",
    "orders_merged_delegate = orders_merged_delegate.drop('Active_Conversion_Rate', 1)\n",
    "orders_merged_delegate = orders_merged_delegate.drop('Mktg_perc_of_ttl_Rev', 1)\n",
    "orders_merged_delegate = orders_merged_delegate.drop('Passive_Conversion_Rate', 1)\n",
    "\n",
    "orders_merged_delegate.rename(columns={'Delegate Sales': 'Delegate_Sales', 'ACD Conversion': 'ACD_Conversion',\\\n",
    "                                      'Full Delegate Sale': 'Full_Delegate_Sale', \\\n",
    "                                       'Inquiry Conversion': 'Inquiry_Conversion',\\\n",
    "                                       'PDF Conversion': 'PDF_Conversion'}, inplace=True)\n",
    "\n",
    "\n",
    "# Note for future examination - maybe reintroduce account SIC later via LabelEncoder?\n",
    "orders_merged_delegate = orders_merged_delegate.fillna(orders_merged_delegate.mean())"
   ]
  },
  {
   "cell_type": "code",
   "execution_count": 4,
   "metadata": {},
   "outputs": [
    {
     "data": {
      "text/plain": [
       "LinearRegression(copy_X=True, fit_intercept=True, n_jobs=None,\n",
       "         normalize=False)"
      ]
     },
     "execution_count": 4,
     "metadata": {},
     "output_type": "execute_result"
    }
   ],
   "source": [
    "from sklearn.linear_model import LinearRegression\n",
    "\n",
    "#removing features that are collinear or not meaningful\n",
    "orders_merged_delegate = orders_merged_delegate.drop('Vendor', 1)\n",
    "orders_merged_delegate = orders_merged_delegate.drop('Sell Side', 1)\n",
    "orders_merged_delegate = orders_merged_delegate.drop('Defense Manufacturer', 1)\n",
    "orders_merged_delegate = orders_merged_delegate.drop('Code', 1)\n",
    "orders_merged_delegate = orders_merged_delegate.drop('id', 1)\n",
    "orders_merged_delegate = orders_merged_delegate.drop('Mktg_Cost__fcst', 1)\n",
    "orders_merged_delegate = orders_merged_delegate.drop('Mktg_Cost_act', 1)\n",
    "orders_merged_delegate = orders_merged_delegate.drop('Cost_of_Acquisition', 1)\n",
    "orders_merged_delegate = orders_merged_delegate.drop('PP__fcst', 1)\n",
    "orders_merged_delegate = orders_merged_delegate.drop('ROI__fcst', 1)\n",
    "orders_merged_delegate = orders_merged_delegate.drop('ROI__act', 1)\n",
    "orders_merged_delegate = orders_merged_delegate.drop('All_Revenue', 1)\n",
    "orders_merged_delegate = orders_merged_delegate.drop('Marketing', 1)\n",
    "orders_merged_delegate_grouped = orders_merged_delegate\n",
    "orders_merged_delegate = orders_merged_delegate.drop('Event_Plan_Code', 1)\n",
    "\n",
    "#looking at primary passes only\n",
    "orders_merged_delegate_primary = orders_merged_delegate[orders_merged_delegate.Primary == 1]\n",
    "\n",
    "orders_merged_delegate_primary = orders_merged_delegate_primary.drop('Primary', 1)\n",
    "\n",
    "y = orders_merged_delegate_primary['Total_Net_Price']\n",
    "X = orders_merged_delegate_primary.drop('Total_Net_Price', 1)\n",
    "\n",
    "lm = LinearRegression()\n",
    "lm.fit(X, y)"
   ]
  },
  {
   "cell_type": "code",
   "execution_count": 5,
   "metadata": {},
   "outputs": [
    {
     "data": {
      "text/html": [
       "<div>\n",
       "<style scoped>\n",
       "    .dataframe tbody tr th:only-of-type {\n",
       "        vertical-align: middle;\n",
       "    }\n",
       "\n",
       "    .dataframe tbody tr th {\n",
       "        vertical-align: top;\n",
       "    }\n",
       "\n",
       "    .dataframe thead th {\n",
       "        text-align: right;\n",
       "    }\n",
       "</style>\n",
       "<table border=\"1\" class=\"dataframe\">\n",
       "  <thead>\n",
       "    <tr style=\"text-align: right;\">\n",
       "      <th></th>\n",
       "      <th>Features</th>\n",
       "      <th>Estimated_Coeffs</th>\n",
       "    </tr>\n",
       "  </thead>\n",
       "  <tbody>\n",
       "    <tr>\n",
       "      <th>45</th>\n",
       "      <td>Full_Delegate_Sale</td>\n",
       "      <td>-252.198421</td>\n",
       "    </tr>\n",
       "    <tr>\n",
       "      <th>44</th>\n",
       "      <td>ACD_Conversion</td>\n",
       "      <td>-241.637779</td>\n",
       "    </tr>\n",
       "    <tr>\n",
       "      <th>47</th>\n",
       "      <td>PDF_Conversion</td>\n",
       "      <td>-203.677962</td>\n",
       "    </tr>\n",
       "    <tr>\n",
       "      <th>43</th>\n",
       "      <td>Delegate_Sales</td>\n",
       "      <td>-185.815869</td>\n",
       "    </tr>\n",
       "    <tr>\n",
       "      <th>32</th>\n",
       "      <td>HR</td>\n",
       "      <td>-140.924734</td>\n",
       "    </tr>\n",
       "    <tr>\n",
       "      <th>46</th>\n",
       "      <td>Inquiry_Conversion</td>\n",
       "      <td>-99.902770</td>\n",
       "    </tr>\n",
       "    <tr>\n",
       "      <th>35</th>\n",
       "      <td>Procurement</td>\n",
       "      <td>74.080644</td>\n",
       "    </tr>\n",
       "    <tr>\n",
       "      <th>34</th>\n",
       "      <td>Pharma</td>\n",
       "      <td>68.909413</td>\n",
       "    </tr>\n",
       "    <tr>\n",
       "      <th>36</th>\n",
       "      <td>Retail</td>\n",
       "      <td>-68.135126</td>\n",
       "    </tr>\n",
       "    <tr>\n",
       "      <th>42</th>\n",
       "      <td>VP</td>\n",
       "      <td>38.873582</td>\n",
       "    </tr>\n",
       "    <tr>\n",
       "      <th>38</th>\n",
       "      <td>Consultant</td>\n",
       "      <td>-36.331701</td>\n",
       "    </tr>\n",
       "    <tr>\n",
       "      <th>0</th>\n",
       "      <td>Group_Size</td>\n",
       "      <td>-34.763616</td>\n",
       "    </tr>\n",
       "    <tr>\n",
       "      <th>31</th>\n",
       "      <td>Finance</td>\n",
       "      <td>31.171343</td>\n",
       "    </tr>\n",
       "    <tr>\n",
       "      <th>41</th>\n",
       "      <td>Other</td>\n",
       "      <td>-19.801929</td>\n",
       "    </tr>\n",
       "    <tr>\n",
       "      <th>33</th>\n",
       "      <td>Logistics</td>\n",
       "      <td>19.080272</td>\n",
       "    </tr>\n",
       "    <tr>\n",
       "      <th>30</th>\n",
       "      <td>CX</td>\n",
       "      <td>15.818188</td>\n",
       "    </tr>\n",
       "    <tr>\n",
       "      <th>37</th>\n",
       "      <td>C-Level</td>\n",
       "      <td>15.374063</td>\n",
       "    </tr>\n",
       "    <tr>\n",
       "      <th>12</th>\n",
       "      <td>Sales_Rev</td>\n",
       "      <td>13.840506</td>\n",
       "    </tr>\n",
       "    <tr>\n",
       "      <th>19</th>\n",
       "      <td>Total_EQ_Rev</td>\n",
       "      <td>13.840158</td>\n",
       "    </tr>\n",
       "    <tr>\n",
       "      <th>3</th>\n",
       "      <td>Total_Rev</td>\n",
       "      <td>-13.839858</td>\n",
       "    </tr>\n",
       "    <tr>\n",
       "      <th>8</th>\n",
       "      <td>Mktg_Rev</td>\n",
       "      <td>13.835533</td>\n",
       "    </tr>\n",
       "    <tr>\n",
       "      <th>39</th>\n",
       "      <td>Director</td>\n",
       "      <td>9.129212</td>\n",
       "    </tr>\n",
       "    <tr>\n",
       "      <th>40</th>\n",
       "      <td>Manager</td>\n",
       "      <td>-7.243226</td>\n",
       "    </tr>\n",
       "    <tr>\n",
       "      <th>13</th>\n",
       "      <td>Sales_perc_of_ttl_rev</td>\n",
       "      <td>3.617327</td>\n",
       "    </tr>\n",
       "    <tr>\n",
       "      <th>21</th>\n",
       "      <td>EQ_perc_of_ttl_Rev</td>\n",
       "      <td>2.977263</td>\n",
       "    </tr>\n",
       "    <tr>\n",
       "      <th>7</th>\n",
       "      <td>Mktg_Dels</td>\n",
       "      <td>2.452190</td>\n",
       "    </tr>\n",
       "    <tr>\n",
       "      <th>1</th>\n",
       "      <td>Days_Ahead_of_Event</td>\n",
       "      <td>-1.457600</td>\n",
       "    </tr>\n",
       "    <tr>\n",
       "      <th>28</th>\n",
       "      <td>Num_SPKRs</td>\n",
       "      <td>1.133470</td>\n",
       "    </tr>\n",
       "    <tr>\n",
       "      <th>16</th>\n",
       "      <td>Active_Inq_Del</td>\n",
       "      <td>-0.771023</td>\n",
       "    </tr>\n",
       "    <tr>\n",
       "      <th>2</th>\n",
       "      <td>Total_Dels</td>\n",
       "      <td>0.719207</td>\n",
       "    </tr>\n",
       "    <tr>\n",
       "      <th>5</th>\n",
       "      <td>Total_Guests</td>\n",
       "      <td>-0.684560</td>\n",
       "    </tr>\n",
       "    <tr>\n",
       "      <th>18</th>\n",
       "      <td>Passive_PDF_Del</td>\n",
       "      <td>-0.671427</td>\n",
       "    </tr>\n",
       "    <tr>\n",
       "      <th>29</th>\n",
       "      <td>Avg_Pricepoint</td>\n",
       "      <td>0.379925</td>\n",
       "    </tr>\n",
       "    <tr>\n",
       "      <th>26</th>\n",
       "      <td>Props_Last_Year</td>\n",
       "      <td>0.327360</td>\n",
       "    </tr>\n",
       "    <tr>\n",
       "      <th>4</th>\n",
       "      <td>Booking_Pattern_Comparison</td>\n",
       "      <td>0.303125</td>\n",
       "    </tr>\n",
       "    <tr>\n",
       "      <th>11</th>\n",
       "      <td>Sales_Dels</td>\n",
       "      <td>-0.290533</td>\n",
       "    </tr>\n",
       "    <tr>\n",
       "      <th>6</th>\n",
       "      <td>Avg_Cost_of_Acquisition</td>\n",
       "      <td>-0.278218</td>\n",
       "    </tr>\n",
       "    <tr>\n",
       "      <th>20</th>\n",
       "      <td>EQ_Price_Point</td>\n",
       "      <td>0.257291</td>\n",
       "    </tr>\n",
       "    <tr>\n",
       "      <th>9</th>\n",
       "      <td>Mktg_Price_Point</td>\n",
       "      <td>0.126258</td>\n",
       "    </tr>\n",
       "    <tr>\n",
       "      <th>14</th>\n",
       "      <td>Sales_Price_Point</td>\n",
       "      <td>0.115769</td>\n",
       "    </tr>\n",
       "    <tr>\n",
       "      <th>17</th>\n",
       "      <td>Num_Passive_PDF</td>\n",
       "      <td>0.084501</td>\n",
       "    </tr>\n",
       "    <tr>\n",
       "      <th>25</th>\n",
       "      <td>Num_Spex_Props</td>\n",
       "      <td>0.074573</td>\n",
       "    </tr>\n",
       "    <tr>\n",
       "      <th>24</th>\n",
       "      <td>Num_Spex_EQs</td>\n",
       "      <td>0.022167</td>\n",
       "    </tr>\n",
       "    <tr>\n",
       "      <th>27</th>\n",
       "      <td>Num_TMs</td>\n",
       "      <td>0.008053</td>\n",
       "    </tr>\n",
       "    <tr>\n",
       "      <th>10</th>\n",
       "      <td>PP__act</td>\n",
       "      <td>0.002663</td>\n",
       "    </tr>\n",
       "    <tr>\n",
       "      <th>15</th>\n",
       "      <td>Num_Active_Inq</td>\n",
       "      <td>0.000179</td>\n",
       "    </tr>\n",
       "    <tr>\n",
       "      <th>22</th>\n",
       "      <td>Spex_Rev</td>\n",
       "      <td>-0.000066</td>\n",
       "    </tr>\n",
       "    <tr>\n",
       "      <th>23</th>\n",
       "      <td>Spex_Last_Year</td>\n",
       "      <td>-0.000063</td>\n",
       "    </tr>\n",
       "  </tbody>\n",
       "</table>\n",
       "</div>"
      ],
      "text/plain": [
       "                      Features  Estimated_Coeffs\n",
       "45          Full_Delegate_Sale       -252.198421\n",
       "44              ACD_Conversion       -241.637779\n",
       "47              PDF_Conversion       -203.677962\n",
       "43              Delegate_Sales       -185.815869\n",
       "32                          HR       -140.924734\n",
       "46          Inquiry_Conversion        -99.902770\n",
       "35                 Procurement         74.080644\n",
       "34                      Pharma         68.909413\n",
       "36                      Retail        -68.135126\n",
       "42                          VP         38.873582\n",
       "38                  Consultant        -36.331701\n",
       "0                   Group_Size        -34.763616\n",
       "31                     Finance         31.171343\n",
       "41                       Other        -19.801929\n",
       "33                   Logistics         19.080272\n",
       "30                          CX         15.818188\n",
       "37                     C-Level         15.374063\n",
       "12                   Sales_Rev         13.840506\n",
       "19                Total_EQ_Rev         13.840158\n",
       "3                    Total_Rev        -13.839858\n",
       "8                     Mktg_Rev         13.835533\n",
       "39                    Director          9.129212\n",
       "40                     Manager         -7.243226\n",
       "13       Sales_perc_of_ttl_rev          3.617327\n",
       "21          EQ_perc_of_ttl_Rev          2.977263\n",
       "7                    Mktg_Dels          2.452190\n",
       "1          Days_Ahead_of_Event         -1.457600\n",
       "28                   Num_SPKRs          1.133470\n",
       "16              Active_Inq_Del         -0.771023\n",
       "2                   Total_Dels          0.719207\n",
       "5                 Total_Guests         -0.684560\n",
       "18             Passive_PDF_Del         -0.671427\n",
       "29              Avg_Pricepoint          0.379925\n",
       "26             Props_Last_Year          0.327360\n",
       "4   Booking_Pattern_Comparison          0.303125\n",
       "11                  Sales_Dels         -0.290533\n",
       "6      Avg_Cost_of_Acquisition         -0.278218\n",
       "20              EQ_Price_Point          0.257291\n",
       "9             Mktg_Price_Point          0.126258\n",
       "14           Sales_Price_Point          0.115769\n",
       "17             Num_Passive_PDF          0.084501\n",
       "25              Num_Spex_Props          0.074573\n",
       "24                Num_Spex_EQs          0.022167\n",
       "27                     Num_TMs          0.008053\n",
       "10                     PP__act          0.002663\n",
       "15              Num_Active_Inq          0.000179\n",
       "22                    Spex_Rev         -0.000066\n",
       "23              Spex_Last_Year         -0.000063"
      ]
     },
     "execution_count": 5,
     "metadata": {},
     "output_type": "execute_result"
    }
   ],
   "source": [
    "Coefs = pd.DataFrame(list(zip(np.array(list(X)), lm.coef_)), columns = ['Features', 'Estimated_Coeffs'])\n",
    "Coefs.reindex(Coefs.Estimated_Coeffs.abs().sort_values(inplace=False, ascending = False).index)"
   ]
  },
  {
   "cell_type": "code",
   "execution_count": 6,
   "metadata": {},
   "outputs": [
    {
     "name": "stdout",
     "output_type": "stream",
     "text": [
      "                            OLS Regression Results                            \n",
      "==============================================================================\n",
      "Dep. Variable:        Total_Net_Price   R-squared:                       0.599\n",
      "Model:                            OLS   Adj. R-squared:                  0.598\n",
      "Method:                 Least Squares   F-statistic:                     594.7\n",
      "Date:                Mon, 04 Mar 2019   Prob (F-statistic):               0.00\n",
      "Time:                        17:51:22   Log-Likelihood:            -1.3463e+05\n",
      "No. Observations:               17997   AIC:                         2.694e+05\n",
      "Df Residuals:                   17951   BIC:                         2.697e+05\n",
      "Df Model:                          45                                         \n",
      "Covariance Type:            nonrobust                                         \n",
      "==============================================================================================\n",
      "                                 coef    std err          t      P>|t|      [0.025      0.975]\n",
      "----------------------------------------------------------------------------------------------\n",
      "const                         68.8719     50.950      1.352      0.176     -30.996     168.740\n",
      "Group_Size                   -34.7636      1.564    -22.228      0.000     -37.829     -31.698\n",
      "Days_Ahead_of_Event           -1.4576      0.070    -20.724      0.000      -1.595      -1.320\n",
      "Total_Dels                     0.7192      0.235      3.064      0.002       0.259       1.179\n",
      "Total_Rev                    -13.8399      7.255     -1.908      0.056     -28.060       0.381\n",
      "Booking_Pattern_Comparison     0.3031      0.087      3.499      0.000       0.133       0.473\n",
      "Total_Guests                  -0.6846      0.067    -10.197      0.000      -0.816      -0.553\n",
      "Avg_Cost_of_Acquisition       -0.2782      0.082     -3.383      0.001      -0.439      -0.117\n",
      "Mktg_Dels                      2.4522      0.693      3.539      0.000       1.094       3.810\n",
      "Mktg_Rev                      13.8355      7.255      1.907      0.057      -0.385      28.056\n",
      "Mktg_Price_Point               0.1263      0.018      7.209      0.000       0.092       0.161\n",
      "PP__act                        0.0027      0.000      5.475      0.000       0.002       0.004\n",
      "Sales_Dels                    -0.2905      0.498     -0.583      0.560      -1.268       0.686\n",
      "Sales_Rev                     13.8405      7.255      1.908      0.056      -0.380      28.061\n",
      "Sales_perc_of_ttl_rev          3.6173      0.858      4.215      0.000       1.935       5.300\n",
      "Sales_Price_Point              0.1158      0.042      2.728      0.006       0.033       0.199\n",
      "Num_Active_Inq                 0.0002      0.076      0.002      0.998      -0.150       0.150\n",
      "Active_Inq_Del                -0.7710      0.486     -1.585      0.113      -1.724       0.182\n",
      "Num_Passive_PDF                0.0845      0.014      5.920      0.000       0.057       0.112\n",
      "Passive_PDF_Del               -0.6714      0.355     -1.891      0.059      -1.367       0.025\n",
      "Total_EQ_Rev                  13.8402      7.255      1.908      0.056      -0.380      28.061\n",
      "EQ_Price_Point                 0.2573      0.041      6.226      0.000       0.176       0.338\n",
      "EQ_perc_of_ttl_Rev             2.9773      0.809      3.681      0.000       1.392       4.563\n",
      "Spex_Rev                   -6.557e-05   2.83e-05     -2.318      0.020      -0.000   -1.01e-05\n",
      "Spex_Last_Year             -6.268e-05   1.61e-05     -3.904      0.000   -9.42e-05   -3.12e-05\n",
      "Num_Spex_EQs                   0.0222      0.019      1.165      0.244      -0.015       0.059\n",
      "Num_Spex_Props                 0.0746      0.213      0.350      0.726      -0.343       0.492\n",
      "Props_Last_Year                0.3274      0.182      1.795      0.073      -0.030       0.685\n",
      "Num_TMs                        0.0081      0.013      0.637      0.524      -0.017       0.033\n",
      "Num_SPKRs                      1.1335      0.299      3.787      0.000       0.547       1.720\n",
      "Avg_Pricepoint                 0.3799      0.085      4.449      0.000       0.213       0.547\n",
      "CX                            25.6570     16.031      1.600      0.110      -5.766      57.080\n",
      "Finance                       41.0102     16.004      2.563      0.010       9.641      72.379\n",
      "HR                          -131.0859     21.712     -6.038      0.000    -173.643     -88.529\n",
      "Logistics                     28.9191     11.716      2.468      0.014       5.955      51.884\n",
      "Pharma                        78.7483     23.122      3.406      0.001      33.427     124.069\n",
      "Procurement                   83.9195     13.178      6.368      0.000      58.090     109.749\n",
      "Retail                       -58.2963     11.560     -5.043      0.000     -80.956     -35.637\n",
      "C-Level                       26.8527     14.440      1.860      0.063      -1.451      55.156\n",
      "Consultant                   -24.8530     37.816     -0.657      0.511     -98.975      49.269\n",
      "Director                      20.6079     12.298      1.676      0.094      -3.498      44.714\n",
      "Manager                        4.2354     12.027      0.352      0.725     -19.339      27.810\n",
      "Other                         -8.3233     12.341     -0.674      0.500     -32.513      15.867\n",
      "VP                            50.3522     13.731      3.667      0.000      23.438      77.266\n",
      "Delegate_Sales              -185.8159     27.289     -6.809      0.000    -239.306    -132.326\n",
      "ACD_Conversion              -241.6378     35.301     -6.845      0.000    -310.832    -172.444\n",
      "Full_Delegate_Sale          -252.1984     28.413     -8.876      0.000    -307.890    -196.507\n",
      "Inquiry_Conversion           -99.9028     29.312     -3.408      0.001    -157.357     -42.449\n",
      "PDF_Conversion              -203.6780     28.626     -7.115      0.000    -259.788    -147.568\n",
      "==============================================================================\n",
      "Omnibus:                     5770.105   Durbin-Watson:                   1.410\n",
      "Prob(Omnibus):                  0.000   Jarque-Bera (JB):            46066.523\n",
      "Skew:                           1.319   Prob(JB):                         0.00\n",
      "Kurtosis:                      10.381   Cond. No.                     1.35e+16\n",
      "==============================================================================\n",
      "\n",
      "Warnings:\n",
      "[1] Standard Errors assume that the covariance matrix of the errors is correctly specified.\n",
      "[2] The smallest eigenvalue is 8.36e-16. This might indicate that there are\n",
      "strong multicollinearity problems or that the design matrix is singular.\n"
     ]
    }
   ],
   "source": [
    "import statsmodels.api as sm\n",
    "from scipy import stats\n",
    "\n",
    "X2 = sm.add_constant(X)\n",
    "est = sm.OLS(y, X2.astype(float))\n",
    "est2 = est.fit()\n",
    "print(est2.summary())"
   ]
  },
  {
   "cell_type": "code",
   "execution_count": 7,
   "metadata": {},
   "outputs": [
    {
     "data": {
      "text/plain": [
       "429.1726674874317"
      ]
     },
     "execution_count": 7,
     "metadata": {},
     "output_type": "execute_result"
    }
   ],
   "source": [
    "from sklearn.metrics import mean_squared_error\n",
    "\n",
    "predictions = est2.predict(X2.astype(float)).values\n",
    "target = y.values\n",
    "rms = np.sqrt(mean_squared_error (target,predictions))\n",
    "rms"
   ]
  },
  {
   "cell_type": "code",
   "execution_count": 8,
   "metadata": {},
   "outputs": [
    {
     "name": "stdout",
     "output_type": "stream",
     "text": [
      "                            OLS Regression Results                            \n",
      "==============================================================================\n",
      "Dep. Variable:        Total_Net_Price   R-squared:                       0.439\n",
      "Model:                            OLS   Adj. R-squared:                  0.438\n",
      "Method:                 Least Squares   F-statistic:                     739.8\n",
      "Date:                Mon, 04 Mar 2019   Prob (F-statistic):               0.00\n",
      "Time:                        17:51:29   Log-Likelihood:            -1.3765e+05\n",
      "No. Observations:               17997   AIC:                         2.753e+05\n",
      "Df Residuals:                   17977   BIC:                         2.755e+05\n",
      "Df Model:                          19                                         \n",
      "Covariance Type:            nonrobust                                         \n",
      "==============================================================================================\n",
      "                                 coef    std err          t      P>|t|      [0.025      0.975]\n",
      "----------------------------------------------------------------------------------------------\n",
      "const                       1660.6272     16.554    100.316      0.000    1628.180    1693.074\n",
      "Group_Size                   -42.6307      1.815    -23.491      0.000     -46.188     -39.073\n",
      "Total_Dels                     0.5481      0.080      6.821      0.000       0.391       0.706\n",
      "Days_Ahead_of_Event           -1.0273      0.082    -12.500      0.000      -1.188      -0.866\n",
      "CX                           256.0893     18.671     13.716      0.000     219.491     292.687\n",
      "Finance                      315.2602     19.187     16.431      0.000     277.651     352.869\n",
      "Pharma                      1351.5533     19.678     68.682      0.000    1312.982    1390.125\n",
      "Logistics                    260.5486     12.860     20.261      0.000     235.342     285.755\n",
      "HR                          -387.3481     25.355    -15.277      0.000    -437.046    -337.650\n",
      "Procurement                  110.5695     15.004      7.370      0.000      81.161     139.978\n",
      "Delegate_Sales              -153.7055      5.514    -27.877      0.000    -164.513    -142.898\n",
      "Full_Delegate_Sale           -93.3789      8.268    -11.294      0.000    -109.585     -77.173\n",
      "Booking_Pattern_Comparison    -0.6910      0.052    -13.362      0.000      -0.792      -0.590\n",
      "Total_Guests                  -2.0744      0.048    -43.442      0.000      -2.168      -1.981\n",
      "Mktg_Dels                     -2.2637      0.300     -7.536      0.000      -2.852      -1.675\n",
      "Num_Active_Inq                 0.3499      0.057      6.164      0.000       0.239       0.461\n",
      "Spex_Rev                       0.0005    1.7e-05     27.728      0.000       0.000       0.001\n",
      "Director                      52.2137     10.322      5.058      0.000      31.981      72.446\n",
      "Manager                       13.2002      9.587      1.377      0.169      -5.592      31.992\n",
      "VP                           125.7505     13.479      9.330      0.000      99.331     152.170\n",
      "Delegate_Sales              -153.7055      5.514    -27.877      0.000    -164.513    -142.898\n",
      "==============================================================================\n",
      "Omnibus:                     3724.419   Durbin-Watson:                   1.033\n",
      "Prob(Omnibus):                  0.000   Jarque-Bera (JB):            18785.460\n",
      "Skew:                           0.913   Prob(JB):                         0.00\n",
      "Kurtosis:                       7.660   Cond. No.                     2.48e+21\n",
      "==============================================================================\n",
      "\n",
      "Warnings:\n",
      "[1] Standard Errors assume that the covariance matrix of the errors is correctly specified.\n",
      "[2] The smallest eigenvalue is 1.3e-26. This might indicate that there are\n",
      "strong multicollinearity problems or that the design matrix is singular.\n"
     ]
    }
   ],
   "source": [
    "X_lim = orders_merged_delegate_primary[['Group_Size','Total_Dels', 'Days_Ahead_of_Event', 'CX', 'Finance', 'Pharma', \\\n",
    "                                        'Logistics', 'HR', 'Procurement', 'Delegate_Sales', 'Full_Delegate_Sale', \\\n",
    "                                       'Booking_Pattern_Comparison', 'Total_Guests', 'Mktg_Dels', 'Num_Active_Inq', \\\n",
    "                                       'Spex_Rev', 'Director', 'Manager', 'VP', 'Delegate_Sales']]\n",
    "\n",
    "X2 = sm.add_constant(X_lim)\n",
    "est = sm.OLS(y, X2.astype(float))\n",
    "est2 = est.fit()\n",
    "print(est2.summary())"
   ]
  },
  {
   "cell_type": "code",
   "execution_count": 9,
   "metadata": {},
   "outputs": [
    {
     "name": "stdout",
     "output_type": "stream",
     "text": [
      "[ 846.54327238 1202.56061515 1167.65638792 ... 1330.57181645 1238.22026564\n",
      " 1692.25102708]\n"
     ]
    },
    {
     "data": {
      "text/plain": [
       "array([ 874.5 ,  874.5 ,  874.5 , ...,  899.  , 1124.25, 1499.  ])"
      ]
     },
     "execution_count": 9,
     "metadata": {},
     "output_type": "execute_result"
    }
   ],
   "source": [
    "predictions = est2.predict(X2.astype(float)).values\n",
    "print(predictions)\n",
    "target = y.values\n",
    "target"
   ]
  },
  {
   "cell_type": "code",
   "execution_count": 10,
   "metadata": {},
   "outputs": [
    {
     "data": {
      "text/plain": [
       "507.4194148156286"
      ]
     },
     "execution_count": 10,
     "metadata": {},
     "output_type": "execute_result"
    }
   ],
   "source": [
    "rms = np.sqrt(mean_squared_error (target,predictions))\n",
    "rms"
   ]
  },
  {
   "cell_type": "markdown",
   "metadata": {},
   "source": [
    "### This features subset on its own removed some of the explanatory power of the model with an increased the RMSE. We will next look to better the model by addressing colliniatiry through VIF"
   ]
  },
  {
   "cell_type": "markdown",
   "metadata": {},
   "source": [
    "### Checking for Variance Inflagtion Factors to identify colliniarity between variables"
   ]
  },
  {
   "cell_type": "code",
   "execution_count": 14,
   "metadata": {},
   "outputs": [],
   "source": [
    "#Imports\n",
    "from patsy import dmatrices\n",
    "import statsmodels.api as sm\n",
    "from statsmodels.stats.outliers_influence import variance_inflation_factor\n",
    "from statsmodels.tools.tools import add_constant"
   ]
  },
  {
   "cell_type": "code",
   "execution_count": 15,
   "metadata": {},
   "outputs": [],
   "source": [
    "X_df = orders_merged_delegate_primary\n",
    "\n",
    "X_df.Sales_perc_of_ttl_rev = pd.to_numeric(X_df.Sales_perc_of_ttl_rev)\n",
    "X_df.EQ_perc_of_ttl_Rev = pd.to_numeric(X_df.EQ_perc_of_ttl_Rev)"
   ]
  },
  {
   "cell_type": "code",
   "execution_count": 16,
   "metadata": {},
   "outputs": [
    {
     "name": "stderr",
     "output_type": "stream",
     "text": [
      "/anaconda3/lib/python3.7/site-packages/statsmodels/stats/outliers_influence.py:181: RuntimeWarning: divide by zero encountered in double_scalars\n",
      "  vif = 1. / (1. - r_squared_i)\n"
     ]
    },
    {
     "data": {
      "text/plain": [
       "Total_Net_Price               2.490922e+00\n",
       "Group_Size                    1.133546e+00\n",
       "Days_Ahead_of_Event           1.090011e+00\n",
       "Total_Dels                             inf\n",
       "Total_Rev                     5.970964e+11\n",
       "Booking_Pattern_Comparison    3.617377e+01\n",
       "Total_Guests                  5.814894e+01\n",
       "Avg_Cost_of_Acquisition       2.287702e+00\n",
       "Mktg_Dels                              inf\n",
       "Mktg_Rev                      2.739607e+10\n",
       "Mktg_Price_Point              8.715692e+00\n",
       "PP__act                       8.878499e+01\n",
       "Sales_Dels                             inf\n",
       "Sales_Rev                     9.425010e+10\n",
       "Sales_perc_of_ttl_rev         9.349752e+00\n",
       "Sales_Price_Point             4.091865e+01\n",
       "Num_Active_Inq                7.564894e+00\n",
       "Active_Inq_Del                         inf\n",
       "Num_Passive_PDF               3.832000e+01\n",
       "Passive_PDF_Del                        inf\n",
       "Total_EQ_Rev                  1.188473e+11\n",
       "EQ_Price_Point                3.699718e+01\n",
       "EQ_perc_of_ttl_Rev            8.316292e+00\n",
       "Spex_Rev                      1.970519e+02\n",
       "Spex_Last_Year                5.296364e+01\n",
       "Num_Spex_EQs                  3.616862e+01\n",
       "Num_Spex_Props                3.115404e+00\n",
       "Props_Last_Year               4.803988e+00\n",
       "Num_TMs                       1.646223e+00\n",
       "Num_SPKRs                     4.999903e+01\n",
       "Avg_Pricepoint                1.477273e+02\n",
       "CX                                     inf\n",
       "Finance                                inf\n",
       "HR                                     inf\n",
       "Logistics                              inf\n",
       "Pharma                                 inf\n",
       "Procurement                            inf\n",
       "Retail                                 inf\n",
       "C-Level                                inf\n",
       "Consultant                             inf\n",
       "Director                               inf\n",
       "Manager                                inf\n",
       "Other                                  inf\n",
       "VP                                     inf\n",
       "Delegate_Sales                1.029809e+01\n",
       "ACD_Conversion                2.600995e+00\n",
       "Full_Delegate_Sale            1.942751e+01\n",
       "Inquiry_Conversion            1.018335e+01\n",
       "PDF_Conversion                1.477053e+01\n",
       "dtype: float64"
      ]
     },
     "execution_count": 16,
     "metadata": {},
     "output_type": "execute_result"
    }
   ],
   "source": [
    "vifs = pd.Series([variance_inflation_factor(X_df.values, i) \n",
    "               for i in range(X_df.shape[1])], \n",
    "              index=X_df.columns)\n",
    "vifs"
   ]
  },
  {
   "cell_type": "code",
   "execution_count": 17,
   "metadata": {},
   "outputs": [],
   "source": [
    "# Removing categorial variables for vifs\n",
    "X_df = X_df.drop(['Sales_Dels', 'CX', 'Finance', 'HR', 'Logistics', 'Pharma', 'Procurement', 'Retail',\\\n",
    "                 'C-Level', 'Consultant', 'Director', 'Manager', 'Other', 'VP'] ,axis=1)"
   ]
  },
  {
   "cell_type": "code",
   "execution_count": 18,
   "metadata": {},
   "outputs": [
    {
     "data": {
      "text/plain": [
       "Total_Net_Price               1.180889e+01\n",
       "Group_Size                    2.228093e+00\n",
       "Days_Ahead_of_Event           3.311928e+00\n",
       "Total_Dels                    2.308837e+03\n",
       "Total_Rev                     1.194589e+12\n",
       "Booking_Pattern_Comparison    7.422436e+01\n",
       "Total_Guests                  8.863604e+01\n",
       "Avg_Cost_of_Acquisition       3.069729e+00\n",
       "Mktg_Dels                     1.994895e+02\n",
       "Mktg_Rev                      5.695460e+10\n",
       "Mktg_Price_Point              1.288882e+02\n",
       "PP__act                       1.934444e+02\n",
       "Sales_Rev                     1.847744e+11\n",
       "Sales_perc_of_ttl_rev         3.903884e+01\n",
       "Sales_Price_Point             2.655718e+02\n",
       "Num_Active_Inq                1.711316e+01\n",
       "Active_Inq_Del                1.927565e+02\n",
       "Num_Passive_PDF               8.145121e+01\n",
       "Passive_PDF_Del               5.746726e+02\n",
       "Total_EQ_Rev                  2.065208e+11\n",
       "EQ_Price_Point                3.099108e+02\n",
       "EQ_perc_of_ttl_Rev            2.979943e+01\n",
       "Spex_Rev                      3.017306e+02\n",
       "Spex_Last_Year                9.365308e+01\n",
       "Num_Spex_EQs                  5.214215e+01\n",
       "Num_Spex_Props                7.099413e+00\n",
       "Props_Last_Year               9.208628e+00\n",
       "Num_TMs                       3.910830e+00\n",
       "Num_SPKRs                     1.287553e+02\n",
       "Avg_Pricepoint                1.177525e+03\n",
       "Delegate_Sales                5.999522e+01\n",
       "ACD_Conversion                2.651742e+00\n",
       "Full_Delegate_Sale            3.429205e+01\n",
       "Inquiry_Conversion            1.182360e+01\n",
       "PDF_Conversion                1.945981e+01\n",
       "dtype: float64"
      ]
     },
     "execution_count": 18,
     "metadata": {},
     "output_type": "execute_result"
    }
   ],
   "source": [
    "vifs = pd.Series([variance_inflation_factor(X_df.values, i) \n",
    "               for i in range(X_df.shape[1])], \n",
    "              index=X_df.columns)\n",
    "vifs"
   ]
  },
  {
   "cell_type": "code",
   "execution_count": 19,
   "metadata": {},
   "outputs": [
    {
     "data": {
      "image/png": "[encoded data removed]",
      "text/plain": [
       "<Figure size 1152x1152 with 2 Axes>"
      ]
     },
     "metadata": {},
     "output_type": "display_data"
    }
   ],
   "source": [
    "import seaborn as sns; sns.set()\n",
    "plt.figure(figsize=(16, 16))\n",
    "ax = sns.heatmap(X_df.corr())"
   ]
  },
  {
   "cell_type": "markdown",
   "metadata": {},
   "source": [
    "### Removing highlly collinear variables iritavely. The removals are all shown together but were done one at a time and vifs re-run each time."
   ]
  },
  {
   "cell_type": "code",
   "execution_count": 20,
   "metadata": {},
   "outputs": [
    {
     "data": {
      "text/plain": [
       "Total_Net_Price            3.285925\n",
       "Group_Size                 2.050816\n",
       "Days_Ahead_of_Event        2.923053\n",
       "Avg_Cost_of_Acquisition    1.813152\n",
       "Num_Active_Inq             8.678442\n",
       "Active_Inq_Del             6.759392\n",
       "Num_Spex_EQs               6.151958\n",
       "Num_Spex_Props             4.108647\n",
       "Props_Last_Year            3.229573\n",
       "Num_TMs                    2.711697\n",
       "ACD_Conversion             1.090893\n",
       "Full_Delegate_Sale         2.920380\n",
       "Inquiry_Conversion         1.626316\n",
       "PDF_Conversion             2.057899\n",
       "dtype: float64"
      ]
     },
     "execution_count": 20,
     "metadata": {},
     "output_type": "execute_result"
    }
   ],
   "source": [
    "X_df = X_df.drop(['Total_Dels'], axis=1)\n",
    "X_df = X_df.drop(['Total_EQ_Rev'], axis=1)\n",
    "X_df = X_df.drop(['Total_Rev'], axis=1)\n",
    "X_df = X_df.drop(['Avg_Pricepoint'], axis=1)\n",
    "X_df = X_df.drop(['Mktg_Rev'], axis=1)\n",
    "X_df = X_df.drop(['Spex_Rev'], axis=1)\n",
    "X_df = X_df.drop(['EQ_Price_Point'], axis=1)\n",
    "X_df = X_df.drop(['Booking_Pattern_Comparison'], axis=1)\n",
    "X_df = X_df.drop(['Num_SPKRs'], axis=1)\n",
    "X_df = X_df.drop(['PP__act'], axis=1)\n",
    "X_df = X_df.drop(['Delegate_Sales'], axis=1)\n",
    "X_df = X_df.drop(['Num_Passive_PDF'], axis=1)\n",
    "X_df = X_df.drop(['Mktg_Price_Point'], axis=1)\n",
    "X_df = X_df.drop(['Total_Guests'], axis=1)\n",
    "X_df = X_df.drop(['Passive_PDF_Del'], axis=1)\n",
    "X_df = X_df.drop(['Sales_Price_Point'], axis=1)\n",
    "X_df = X_df.drop(['Sales_Rev'], axis=1)\n",
    "X_df = X_df.drop(['Spex_Last_Year'], axis=1)\n",
    "X_df = X_df.drop(['EQ_perc_of_ttl_Rev'], axis=1)\n",
    "X_df = X_df.drop(['Sales_perc_of_ttl_rev'], axis=1)\n",
    "X_df = X_df.drop(['Mktg_Dels'], axis=1)\n",
    "\n",
    "vifs = pd.Series([variance_inflation_factor(X_df.values, i) \n",
    "               for i in range(X_df.shape[1])], \n",
    "              index=X_df.columns)\n",
    "vifs"
   ]
  },
  {
   "cell_type": "code",
   "execution_count": 21,
   "metadata": {},
   "outputs": [
    {
     "name": "stdout",
     "output_type": "stream",
     "text": [
      "                            OLS Regression Results                            \n",
      "==============================================================================\n",
      "Dep. Variable:        Total_Net_Price   R-squared:                       0.170\n",
      "Model:                            OLS   Adj. R-squared:                  0.169\n",
      "Method:                 Least Squares   F-statistic:                     282.5\n",
      "Date:                Mon, 04 Mar 2019   Prob (F-statistic):               0.00\n",
      "Time:                        17:52:44   Log-Likelihood:            -1.4117e+05\n",
      "No. Observations:               17997   AIC:                         2.824e+05\n",
      "Df Residuals:                   17983   BIC:                         2.825e+05\n",
      "Df Model:                          13                                         \n",
      "Covariance Type:            nonrobust                                         \n",
      "===========================================================================================\n",
      "                              coef    std err          t      P>|t|      [0.025      0.975]\n",
      "-------------------------------------------------------------------------------------------\n",
      "const                    1983.2474     17.022    116.510      0.000    1949.882    2016.612\n",
      "Group_Size                -60.9438      2.197    -27.736      0.000     -65.251     -56.637\n",
      "Days_Ahead_of_Event        -0.6802      0.099     -6.853      0.000      -0.875      -0.486\n",
      "Avg_Cost_of_Acquisition    -0.7263      0.087     -8.362      0.000      -0.897      -0.556\n",
      "Num_Active_Inq             -1.6651      0.077    -21.703      0.000      -1.816      -1.515\n",
      "Active_Inq_Del              3.2628      0.235     13.910      0.000       2.803       3.723\n",
      "Num_Spex_EQs               -0.0659      0.009     -7.392      0.000      -0.083      -0.048\n",
      "Num_Spex_Props              0.9358      0.228      4.100      0.000       0.488       1.383\n",
      "Props_Last_Year            -1.2605      0.145     -8.703      0.000      -1.544      -0.977\n",
      "Num_TMs                     0.0167      0.015      1.087      0.277      -0.013       0.047\n",
      "ACD_Conversion           -251.5956     33.310     -7.553      0.000    -316.886    -186.305\n",
      "Full_Delegate_Sale       -358.4752     13.707    -26.152      0.000    -385.343    -331.608\n",
      "Inquiry_Conversion       -217.8789     16.965    -12.843      0.000    -251.133    -184.625\n",
      "PDF_Conversion           -334.9936     15.076    -22.220      0.000    -364.545    -305.442\n",
      "==============================================================================\n",
      "Omnibus:                     4184.018   Durbin-Watson:                   0.699\n",
      "Prob(Omnibus):                  0.000   Jarque-Bera (JB):            15244.757\n",
      "Skew:                           1.137   Prob(JB):                         0.00\n",
      "Kurtosis:                       6.894   Cond. No.                     1.02e+04\n",
      "==============================================================================\n",
      "\n",
      "Warnings:\n",
      "[1] Standard Errors assume that the covariance matrix of the errors is correctly specified.\n",
      "[2] The condition number is large, 1.02e+04. This might indicate that there are\n",
      "strong multicollinearity or other numerical problems.\n"
     ]
    }
   ],
   "source": [
    "#Rerunning Regression and checking the effect of the removals on MSE\n",
    "y = X_df['Total_Net_Price']\n",
    "X = X_df.drop('Total_Net_Price', 1)\n",
    "\n",
    "lm = LinearRegression()\n",
    "lm.fit(X, y)\n",
    "\n",
    "X2 = sm.add_constant(X)\n",
    "est = sm.OLS(y, X2.astype(float))\n",
    "est2 = est.fit()\n",
    "print(est2.summary())"
   ]
  },
  {
   "cell_type": "code",
   "execution_count": 22,
   "metadata": {},
   "outputs": [
    {
     "data": {
      "text/plain": [
       "617.2412796576789"
      ]
     },
     "execution_count": 22,
     "metadata": {},
     "output_type": "execute_result"
    }
   ],
   "source": [
    "predictions = est2.predict(X2.astype(float)).values\n",
    "target = y.values\n",
    "rms = np.sqrt(mean_squared_error (target,predictions))\n",
    "rms"
   ]
  },
  {
   "cell_type": "markdown",
   "metadata": {},
   "source": [
    "### Unfortuantelly addressing collinearity seems to have lowered the strength of the model. "
   ]
  },
  {
   "cell_type": "code",
   "execution_count": null,
   "metadata": {},
   "outputs": [],
   "source": []
  },
  {
   "cell_type": "code",
   "execution_count": null,
   "metadata": {},
   "outputs": [],
   "source": []
  },
  {
   "cell_type": "markdown",
   "metadata": {},
   "source": [
    "### Dropping Delegate Sales registrations to remove the human discounting bias"
   ]
  },
  {
   "cell_type": "code",
   "execution_count": 23,
   "metadata": {},
   "outputs": [],
   "source": [
    "orders_merged_delegate_primary_mktg = orders_merged_delegate_primary[orders_merged_delegate_primary['Delegate_Sales'] == 0]"
   ]
  },
  {
   "cell_type": "code",
   "execution_count": 24,
   "metadata": {},
   "outputs": [
    {
     "data": {
      "text/plain": [
       "LinearRegression(copy_X=True, fit_intercept=True, n_jobs=None,\n",
       "         normalize=False)"
      ]
     },
     "execution_count": 24,
     "metadata": {},
     "output_type": "execute_result"
    }
   ],
   "source": [
    "orders_merged_delegate_primary_mktg = orders_merged_delegate_primary_mktg.drop(columns=['Delegate_Sales', \\\n",
    "                                                                                        'ACD_Conversion',\\\n",
    "                                                 'Full_Delegate_Sale', 'Inquiry_Conversion', 'PDF_Conversion'])\n",
    "y = orders_merged_delegate_primary_mktg['Total_Net_Price']\n",
    "X = orders_merged_delegate_primary_mktg.drop('Total_Net_Price', 1)\n",
    "\n",
    "lm = LinearRegression()\n",
    "lm.fit(X, y)"
   ]
  },
  {
   "cell_type": "code",
   "execution_count": 25,
   "metadata": {},
   "outputs": [
    {
     "name": "stdout",
     "output_type": "stream",
     "text": [
      "                            OLS Regression Results                            \n",
      "==============================================================================\n",
      "Dep. Variable:        Total_Net_Price   R-squared:                       0.522\n",
      "Model:                            OLS   Adj. R-squared:                  0.515\n",
      "Method:                 Least Squares   F-statistic:                     82.65\n",
      "Date:                Mon, 04 Mar 2019   Prob (F-statistic):               0.00\n",
      "Time:                        17:53:06   Log-Likelihood:                -23748.\n",
      "No. Observations:                3071   AIC:                         4.758e+04\n",
      "Df Residuals:                    3030   BIC:                         4.783e+04\n",
      "Df Model:                          40                                         \n",
      "Covariance Type:            nonrobust                                         \n",
      "==============================================================================================\n",
      "                                 coef    std err          t      P>|t|      [0.025      0.975]\n",
      "----------------------------------------------------------------------------------------------\n",
      "const                        273.9631    146.837      1.866      0.062     -13.946     561.873\n",
      "Group_Size                   -99.3265      8.534    -11.639      0.000    -116.059     -82.594\n",
      "Days_Ahead_of_Event           -3.7292      0.220    -16.931      0.000      -4.161      -3.297\n",
      "Total_Dels                     2.7503      0.743      3.702      0.000       1.294       4.207\n",
      "Total_Rev                     -8.5577     23.281     -0.368      0.713     -54.205      37.090\n",
      "Booking_Pattern_Comparison     0.1725      0.264      0.653      0.514      -0.345       0.690\n",
      "Total_Guests                  -1.0993      0.208     -5.288      0.000      -1.507      -0.692\n",
      "Avg_Cost_of_Acquisition       -0.4733      0.225     -2.107      0.035      -0.914      -0.033\n",
      "Mktg_Dels                      6.3968      2.175      2.941      0.003       2.132      10.661\n",
      "Mktg_Rev                       8.5470     23.281      0.367      0.714     -37.101      54.195\n",
      "Mktg_Price_Point               0.6876      0.071      9.655      0.000       0.548       0.827\n",
      "PP__act                        0.0051      0.002      3.085      0.002       0.002       0.008\n",
      "Sales_Dels                    -1.5207      1.673     -0.909      0.363      -4.800       1.759\n",
      "Sales_Rev                      8.5586     23.281      0.368      0.713     -37.089      54.206\n",
      "Sales_perc_of_ttl_rev         -2.8417      2.418     -1.175      0.240      -7.583       1.900\n",
      "Sales_Price_Point              0.2228      0.117      1.900      0.058      -0.007       0.453\n",
      "Num_Active_Inq                -0.8018      0.253     -3.166      0.002      -1.298      -0.305\n",
      "Active_Inq_Del                -0.9790      1.613     -0.607      0.544      -4.141       2.183\n",
      "Num_Passive_PDF                0.2580      0.044      5.801      0.000       0.171       0.345\n",
      "Passive_PDF_Del               -1.1469      1.138     -1.008      0.314      -3.379       1.085\n",
      "Total_EQ_Rev                   8.5567     23.281      0.368      0.713     -37.091      54.204\n",
      "EQ_Price_Point                 0.3827      0.130      2.943      0.003       0.128       0.638\n",
      "EQ_perc_of_ttl_Rev            -1.9403      2.419     -0.802      0.423      -6.684       2.803\n",
      "Spex_Rev                    6.246e-06   9.32e-05      0.067      0.947      -0.000       0.000\n",
      "Spex_Last_Year             -4.352e-05   4.95e-05     -0.879      0.380      -0.000    5.36e-05\n",
      "Num_Spex_EQs                   0.0821      0.063      1.299      0.194      -0.042       0.206\n",
      "Num_Spex_Props                -0.0767      0.641     -0.120      0.905      -1.334       1.180\n",
      "Props_Last_Year                0.8484      0.579      1.465      0.143      -0.287       1.984\n",
      "Num_TMs                        0.0698      0.041      1.684      0.092      -0.011       0.151\n",
      "Num_SPKRs                     -0.6409      0.988     -0.648      0.517      -2.579       1.297\n",
      "Avg_Pricepoint                -0.3296      0.264     -1.248      0.212      -0.847       0.188\n",
      "CX                           -26.9556     46.697     -0.577      0.564    -118.516      64.605\n",
      "Finance                      122.0459     47.111      2.591      0.010      29.672     214.419\n",
      "HR                          -119.6865     77.194     -1.550      0.121    -271.044      31.671\n",
      "Logistics                     56.3279     36.141      1.559      0.119     -14.535     127.191\n",
      "Pharma                       131.1730     69.625      1.884      0.060      -5.344     267.690\n",
      "Procurement                  180.1167     40.375      4.461      0.000     100.952     259.281\n",
      "Retail                       -69.0582     35.169     -1.964      0.050    -138.015      -0.101\n",
      "C-Level                      100.4306     41.320      2.431      0.015      19.412     181.449\n",
      "Consultant                  -115.9040    105.217     -1.102      0.271    -322.208      90.400\n",
      "Director                      97.2162     35.869      2.710      0.007      26.886     167.547\n",
      "Manager                        8.9210     35.445      0.252      0.801     -60.578      78.420\n",
      "Other                         46.5439     36.169      1.287      0.198     -24.375     117.463\n",
      "VP                           136.7554     39.439      3.468      0.001      59.425     214.085\n",
      "==============================================================================\n",
      "Omnibus:                      955.841   Durbin-Watson:                   1.560\n",
      "Prob(Omnibus):                  0.000   Jarque-Bera (JB):             3418.838\n",
      "Skew:                           1.527   Prob(JB):                         0.00\n",
      "Kurtosis:                       7.170   Cond. No.                     1.34e+16\n",
      "==============================================================================\n",
      "\n",
      "Warnings:\n",
      "[1] Standard Errors assume that the covariance matrix of the errors is correctly specified.\n",
      "[2] The smallest eigenvalue is 1.17e-16. This might indicate that there are\n",
      "strong multicollinearity problems or that the design matrix is singular.\n"
     ]
    }
   ],
   "source": [
    "X2 = sm.add_constant(X)\n",
    "est = sm.OLS(y, X2.astype(float))\n",
    "est2 = est.fit()\n",
    "print(est2.summary())"
   ]
  },
  {
   "cell_type": "code",
   "execution_count": 26,
   "metadata": {},
   "outputs": [
    {
     "data": {
      "text/plain": [
       "552.3047278897956"
      ]
     },
     "execution_count": 26,
     "metadata": {},
     "output_type": "execute_result"
    }
   ],
   "source": [
    "predictions = est2.predict(X2.astype(float)).values\n",
    "target = y.values\n",
    "rms = np.sqrt(mean_squared_error (target,predictions))\n",
    "rms"
   ]
  },
  {
   "cell_type": "markdown",
   "metadata": {},
   "source": [
    "### The RMSE didnt seem to drop but actually raised, which means the human discounting assumption likely isnt a problem in bettering the model fit"
   ]
  },
  {
   "cell_type": "markdown",
   "metadata": {},
   "source": [
    "### Moving onto other regression methods to see whether moving away from linear models can help with bettering the model fit."
   ]
  },
  {
   "cell_type": "code",
   "execution_count": 27,
   "metadata": {},
   "outputs": [
    {
     "name": "stderr",
     "output_type": "stream",
     "text": [
      "/anaconda3/lib/python3.7/site-packages/sklearn/ensemble/forest.py:246: FutureWarning: The default value of n_estimators will change from 10 in version 0.20 to 100 in 0.22.\n",
      "  \"10 in version 0.20 to 100 in 0.22.\", FutureWarning)\n"
     ]
    },
    {
     "name": "stdout",
     "output_type": "stream",
     "text": [
      "[3.76606954e-03 1.15754985e-02 0.00000000e+00 5.96641891e-03\n",
      " 0.00000000e+00 0.00000000e+00 6.99034765e-04 3.87778844e-03\n",
      " 0.00000000e+00 1.17619764e-02 0.00000000e+00 0.00000000e+00\n",
      " 1.89806131e-03 0.00000000e+00 1.13869624e-01 0.00000000e+00\n",
      " 0.00000000e+00 7.72342920e-03 0.00000000e+00 0.00000000e+00\n",
      " 1.74999983e-02 1.57572161e-03 3.55792234e-05 0.00000000e+00\n",
      " 0.00000000e+00 0.00000000e+00 0.00000000e+00 1.36578166e-03\n",
      " 1.84517747e-03 7.44221382e-01 0.00000000e+00 0.00000000e+00\n",
      " 0.00000000e+00 8.89109840e-04 0.00000000e+00 0.00000000e+00\n",
      " 0.00000000e+00 0.00000000e+00 5.72947977e-04 0.00000000e+00\n",
      " 0.00000000e+00 0.00000000e+00 0.00000000e+00 7.01831787e-02\n",
      " 0.00000000e+00 6.73222325e-04 0.00000000e+00 0.00000000e+00\n",
      " 0.00000000e+00]\n",
      "[ 709.75658533 1501.82303056 3181.28859299 ...  975.78888107  709.75658533\n",
      " 1371.15607802]\n",
      "0.5265961977763802\n"
     ]
    }
   ],
   "source": [
    "from sklearn.model_selection import train_test_split\n",
    "from sklearn.ensemble import RandomForestRegressor\n",
    "from sklearn.datasets import make_regression\n",
    "\n",
    "# Random Forest\n",
    "\n",
    "#looking at primary passes only\n",
    "orders_merged_delegate_primary = orders_merged_delegate[orders_merged_delegate.Primary == 1]\n",
    "\n",
    "y = orders_merged_delegate_primary['Total_Net_Price']\n",
    "X = orders_merged_delegate_primary.drop('Total_Net_Price', 1)\n",
    "\n",
    "X_train, X_test, y_train, y_test = train_test_split(X, y, test_size=0.2, random_state=1)\n",
    "regr = RandomForestRegressor(max_depth=4, random_state=1)\n",
    "regr.fit(X_train, y_train)\n",
    "\n",
    "#Run as is and then play around with larger depths\n",
    "\n",
    "print(regr.feature_importances_)\n",
    "\n",
    "print(regr.predict(X_test))\n",
    "\n",
    "print(regr.score(X_test, y_test))"
   ]
  },
  {
   "cell_type": "code",
   "execution_count": 28,
   "metadata": {},
   "outputs": [
    {
     "name": "stdout",
     "output_type": "stream",
     "text": [
      "[ 476.21855745 1470.74198678 2862.48254405 ... 1197.68599872  501.26580556\n",
      " 1523.39003431]\n",
      "[-3.36951177e+01 -1.45674725e+00  6.20698756e-02  0.00000000e+00\n",
      "  2.72828027e-01 -7.46811267e-01 -3.36695205e-01  2.86992513e+00\n",
      " -3.73329843e-03  1.20315917e-01  2.13146682e-03  2.85854897e-01\n",
      "  5.39782018e-04  3.55911529e+00  1.21227514e-01 -0.00000000e+00\n",
      "  3.92841964e-01  9.72695333e-02  0.00000000e+00  2.39620758e-04\n",
      "  2.58032411e-01  2.52285282e+00 -5.14940583e-05 -4.79307408e-05\n",
      "  1.26618414e-02  1.84389374e-01  4.08035698e-01  7.72523476e-03\n",
      "  9.79415879e-01  3.81082150e-01 -1.86583352e+01  1.01106325e+01\n",
      " -1.69247498e+02  0.00000000e+00  4.51489040e+01  4.67758404e+01\n",
      " -9.69717631e+01  3.54530118e+00 -2.98709131e+01  0.00000000e+00\n",
      " -1.50723571e+01 -2.55056268e+01  2.86625771e+01 -1.92579271e+02\n",
      " -2.19611961e+02 -2.28713876e+02 -7.66386381e+01 -1.74947787e+02\n",
      "  0.00000000e+00]\n",
      "128.35149608932375\n"
     ]
    },
    {
     "name": "stderr",
     "output_type": "stream",
     "text": [
      "/anaconda3/lib/python3.7/site-packages/sklearn/linear_model/coordinate_descent.py:492: ConvergenceWarning: Objective did not converge. You might want to increase the number of iterations. Fitting data with very small alpha may cause precision problems.\n",
      "  ConvergenceWarning)\n"
     ]
    }
   ],
   "source": [
    "### Lasso\n",
    "from sklearn.linear_model import Lasso\n",
    "lassoreg = Lasso(alpha=0.001,normalize=True, max_iter=1000)\n",
    "lassoreg.fit(X_train, y_train)\n",
    "print(lassoreg.predict(X_test))\n",
    "print(lassoreg.coef_)\n",
    "print(lassoreg.intercept_)"
   ]
  },
  {
   "cell_type": "code",
   "execution_count": 29,
   "metadata": {},
   "outputs": [],
   "source": [
    "headers = list(orders_merged_delegate_primary)\n",
    "coef = lassoreg.coef_\n",
    "headers.pop(0)\n",
    "lasso_coef = pd.DataFrame(\n",
    "    {'header': headers,\n",
    "     'coef': coef,\n",
    "    })"
   ]
  },
  {
   "cell_type": "code",
   "execution_count": 30,
   "metadata": {},
   "outputs": [
    {
     "name": "stdout",
     "output_type": "stream",
     "text": [
      "                header        coef\n",
      "0           Group_Size  -33.695118\n",
      "30                  CX  -18.658335\n",
      "31             Finance   10.110632\n",
      "32                  HR -169.247498\n",
      "34              Pharma   45.148904\n",
      "35         Procurement   46.775840\n",
      "36              Retail  -96.971763\n",
      "38          Consultant  -29.870913\n",
      "40             Manager  -15.072357\n",
      "41               Other  -25.505627\n",
      "42                  VP   28.662577\n",
      "43      Delegate_Sales -192.579271\n",
      "44      ACD_Conversion -219.611961\n",
      "45  Full_Delegate_Sale -228.713876\n",
      "46  Inquiry_Conversion  -76.638638\n",
      "47      PDF_Conversion -174.947787\n"
     ]
    }
   ],
   "source": [
    "#Identifying the significantely large coefficients\n",
    "\n",
    "significant_coefs = lasso_coef[(lasso_coef.coef >= 10) | (lasso_coef.coef <= -10)]\n",
    "print(significant_coefs)"
   ]
  },
  {
   "cell_type": "code",
   "execution_count": 31,
   "metadata": {},
   "outputs": [
    {
     "name": "stdout",
     "output_type": "stream",
     "text": [
      "[2755.42 1349.   5198.   ... 2299.    699.    950.  ]\n",
      "0.48472726631535823\n"
     ]
    }
   ],
   "source": [
    "# Single Decision Tree\n",
    "from sklearn.tree import DecisionTreeRegressor\n",
    "clf = DecisionTreeRegressor(random_state=0)\n",
    "\n",
    "clf.fit(X_train, y_train)\n",
    "print(clf.predict(X_test))\n",
    "print(clf.score(X_test, y_test))\n"
   ]
  },
  {
   "cell_type": "code",
   "execution_count": 32,
   "metadata": {},
   "outputs": [
    {
     "name": "stderr",
     "output_type": "stream",
     "text": [
      "/anaconda3/lib/python3.7/site-packages/sklearn/model_selection/_split.py:2053: FutureWarning: You should specify a value for 'cv' instead of relying on the default value. The default value will change from 3 to 5 in version 0.22.\n",
      "  warnings.warn(CV_WARNING, FutureWarning)\n"
     ]
    },
    {
     "name": "stdout",
     "output_type": "stream",
     "text": [
      "0.6942490063407305 {'max_depth': 15, 'n_estimators': 100}\n",
      "0.7045193845165232\n"
     ]
    }
   ],
   "source": [
    "from sklearn import tree\n",
    "from sklearn.model_selection import GridSearchCV\n",
    "\n",
    "parameters = {'max_depth':range(3,20), 'n_estimators':[50,100]}\n",
    "clf = GridSearchCV(RandomForestRegressor(random_state=1), parameters, n_jobs=4)\n",
    "clf.fit(X=X_train, y=y_train)\n",
    "tree_model = clf.best_estimator_\n",
    "print (clf.best_score_, clf.best_params_) \n",
    "print (tree_model.score(X_test, y_test))"
   ]
  },
  {
   "cell_type": "code",
   "execution_count": 33,
   "metadata": {},
   "outputs": [
    {
     "data": {
      "text/plain": [
       "377.47535356025656"
      ]
     },
     "execution_count": 33,
     "metadata": {},
     "output_type": "execute_result"
    }
   ],
   "source": [
    "y = orders_merged_delegate_primary['Total_Net_Price']\n",
    "X = orders_merged_delegate_primary.drop('Total_Net_Price', 1)\n",
    "\n",
    "X_train, X_test, y_train, y_test = train_test_split(X, y, test_size=0.2, random_state=1)\n",
    "regr = RandomForestRegressor(max_depth=15, n_estimators=100, random_state=1)\n",
    "regr.fit(X_train, y_train)\n",
    "\n",
    "y_pred = regr.predict(X_test)\n",
    "y_true = y_test.values\n",
    "\n",
    "rms = np.sqrt(mean_squared_error(y_true, y_pred))\n",
    "rms"
   ]
  },
  {
   "cell_type": "markdown",
   "metadata": {},
   "source": [
    "### Indeed, the best fit modeal as shown by GridSearch CV resulted in a .70 score and the lowest RMSE from all model variations attampted"
   ]
  },
  {
   "cell_type": "code",
   "execution_count": 247,
   "metadata": {},
   "outputs": [
    {
     "name": "stderr",
     "output_type": "stream",
     "text": [
      "/anaconda3/lib/python3.7/site-packages/ipykernel_launcher.py:2: SettingWithCopyWarning: \n",
      "A value is trying to be set on a copy of a slice from a DataFrame.\n",
      "Try using .loc[row_indexer,col_indexer] = value instead\n",
      "\n",
      "See the caveats in the documentation: http://pandas.pydata.org/pandas-docs/stable/indexing.html#indexing-view-versus-copy\n",
      "  \n"
     ]
    },
    {
     "data": {
      "text/plain": [
       "542.2761301472664"
      ]
     },
     "execution_count": 247,
     "metadata": {},
     "output_type": "execute_result"
    }
   ],
   "source": [
    "df = orders_merged_delegate_primary\n",
    "df['diff'] = df['Total_Net_Price'] - df['Avg_Pricepoint']\n",
    "np.sqrt(((df['diff']**2).sum())/len(df['square_mean']))"
   ]
  },
  {
   "cell_type": "code",
   "execution_count": 248,
   "metadata": {},
   "outputs": [
    {
     "data": {
      "text/plain": [
       "0.30388920648385487"
      ]
     },
     "execution_count": 248,
     "metadata": {},
     "output_type": "execute_result"
    }
   ],
   "source": [
    "(542.27 - 377.48)/542.27"
   ]
  },
  {
   "cell_type": "markdown",
   "metadata": {},
   "source": [
    "### 542 is the average root mean square error when looking at the average price point for an event as compared to the final price charged for the individual. Our Random Forrest model produced a rmse of 377, which is a 30% improvement in the average rmse. \n",
    "### This percentage increase is a representation of the company's economic opportunity from ticket sales when using such a RandomForrest model to identify the price that could be paid per ticket given certain event and attendee characteristics!"
   ]
  },
  {
   "cell_type": "code",
   "execution_count": null,
   "metadata": {},
   "outputs": [],
   "source": []
  }
 ],
 "metadata": {
  "kernelspec": {
   "display_name": "Python 3",
   "language": "python",
   "name": "python3"
  },
  "language_info": {
   "codemirror_mode": {
    "name": "ipython",
    "version": 3
   },
   "file_extension": ".py",
   "mimetype": "text/x-python",
   "name": "python",
   "nbconvert_exporter": "python",
   "pygments_lexer": "ipython3",
   "version": "3.7.1"
  }
 },
 "nbformat": 4,
 "nbformat_minor": 2
}
