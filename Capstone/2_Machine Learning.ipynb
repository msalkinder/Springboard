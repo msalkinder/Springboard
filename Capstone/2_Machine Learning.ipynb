{
 "cells": [
  {
   "cell_type": "code",
   "execution_count": 215,
   "metadata": {},
   "outputs": [],
   "source": [
    "%matplotlib inline\n",
    "import pandas as pd\n",
    "import matplotlib.pyplot as plt\n",
    "import numpy as np\n",
    "import seaborn as sns\n",
    "sns.set()"
   ]
  },
  {
   "cell_type": "code",
   "execution_count": 216,
   "metadata": {},
   "outputs": [],
   "source": [
    "orders_merged = pd.read_csv('data__for__ml.csv', index_col=0, engine='python')"
   ]
  },
  {
   "cell_type": "code",
   "execution_count": 217,
   "metadata": {},
   "outputs": [
    {
     "name": "stderr",
     "output_type": "stream",
     "text": [
      "/anaconda3/lib/python3.6/site-packages/ipykernel_launcher.py:4: SettingWithCopyWarning: \n",
      "A value is trying to be set on a copy of a slice from a DataFrame.\n",
      "Try using .loc[row_indexer,col_indexer] = value instead\n",
      "\n",
      "See the caveats in the documentation: http://pandas.pydata.org/pandas-docs/stable/indexing.html#indexing-view-versus-copy\n",
      "  after removing the cwd from sys.path.\n",
      "/anaconda3/lib/python3.6/site-packages/ipykernel_launcher.py:5: SettingWithCopyWarning: \n",
      "A value is trying to be set on a copy of a slice from a DataFrame.\n",
      "Try using .loc[row_indexer,col_indexer] = value instead\n",
      "\n",
      "See the caveats in the documentation: http://pandas.pydata.org/pandas-docs/stable/indexing.html#indexing-view-versus-copy\n",
      "  \"\"\"\n",
      "/anaconda3/lib/python3.6/site-packages/ipykernel_launcher.py:6: SettingWithCopyWarning: \n",
      "A value is trying to be set on a copy of a slice from a DataFrame.\n",
      "Try using .loc[row_indexer,col_indexer] = value instead\n",
      "\n",
      "See the caveats in the documentation: http://pandas.pydata.org/pandas-docs/stable/indexing.html#indexing-view-versus-copy\n",
      "  \n",
      "/anaconda3/lib/python3.6/site-packages/ipykernel_launcher.py:7: SettingWithCopyWarning: \n",
      "A value is trying to be set on a copy of a slice from a DataFrame.\n",
      "Try using .loc[row_indexer,col_indexer] = value instead\n",
      "\n",
      "See the caveats in the documentation: http://pandas.pydata.org/pandas-docs/stable/indexing.html#indexing-view-versus-copy\n",
      "  import sys\n",
      "/anaconda3/lib/python3.6/site-packages/ipykernel_launcher.py:8: SettingWithCopyWarning: \n",
      "A value is trying to be set on a copy of a slice from a DataFrame.\n",
      "Try using .loc[row_indexer,col_indexer] = value instead\n",
      "\n",
      "See the caveats in the documentation: http://pandas.pydata.org/pandas-docs/stable/indexing.html#indexing-view-versus-copy\n",
      "  \n",
      "/anaconda3/lib/python3.6/site-packages/ipykernel_launcher.py:9: SettingWithCopyWarning: \n",
      "A value is trying to be set on a copy of a slice from a DataFrame.\n",
      "Try using .loc[row_indexer,col_indexer] = value instead\n",
      "\n",
      "See the caveats in the documentation: http://pandas.pydata.org/pandas-docs/stable/indexing.html#indexing-view-versus-copy\n",
      "  if __name__ == '__main__':\n",
      "/anaconda3/lib/python3.6/site-packages/ipykernel_launcher.py:10: SettingWithCopyWarning: \n",
      "A value is trying to be set on a copy of a slice from a DataFrame.\n",
      "Try using .loc[row_indexer,col_indexer] = value instead\n",
      "\n",
      "See the caveats in the documentation: http://pandas.pydata.org/pandas-docs/stable/indexing.html#indexing-view-versus-copy\n",
      "  # Remove the CWD from sys.path while we load stuff.\n",
      "/anaconda3/lib/python3.6/site-packages/ipykernel_launcher.py:11: SettingWithCopyWarning: \n",
      "A value is trying to be set on a copy of a slice from a DataFrame.\n",
      "Try using .loc[row_indexer,col_indexer] = value instead\n",
      "\n",
      "See the caveats in the documentation: http://pandas.pydata.org/pandas-docs/stable/indexing.html#indexing-view-versus-copy\n",
      "  # This is added back by InteractiveShellApp.init_path()\n"
     ]
    }
   ],
   "source": [
    "# Cleaning up data for classificiations\n",
    "\n",
    "orders_merged_delegate = orders_merged[orders_merged.Registration_Type == 'Delegate']\n",
    "orders_merged_delegate['EQ_perc_of_ttl_Rev'] = orders_merged_delegate['EQ_perc_of_ttl_Rev'].replace('[\\%, ]', '', regex=True)\n",
    "orders_merged_delegate['Mktg_perc_of_ttl_Rev'] = orders_merged_delegate['Mktg_perc_of_ttl_Rev'].replace('[\\%, ]', '', regex=True)\n",
    "orders_merged_delegate['Sales_perc_of_ttl_rev'] = orders_merged_delegate['Sales_perc_of_ttl_rev'].replace('[\\%, ]', '', regex=True)\n",
    "orders_merged_delegate['Active_Conversion_Rate'] = orders_merged_delegate['Active_Conversion_Rate'].replace('[\\%, ]', '', regex=True)\n",
    "orders_merged_delegate['Passive_Conversion_Rate'] = orders_merged_delegate['Passive_Conversion_Rate'].replace('[\\%, ]', '', regex=True)\n",
    "orders_merged_delegate['ROI__fcst'] = orders_merged_delegate['ROI__fcst'].replace('[\\%, ]', '', regex=True)\n",
    "orders_merged_delegate['ROI__act'] = orders_merged_delegate['ROI__act'].replace('[\\%, ]', '', regex=True)\n",
    "orders_merged_delegate['Sales_and_Mktg_ROI'] = orders_merged_delegate['Sales_and_Mktg_ROI'].replace('[\\%, ]', '', regex=True)\n",
    "orders_merged_delegate = orders_merged_delegate.drop('Event_Plan_Start_Date', 1)\n",
    "orders_merged_delegate = orders_merged_delegate.drop('Event_Plan_Date', 1)\n",
    "orders_merged_delegate = orders_merged_delegate.drop('Order_Date', 1)\n",
    "orders_merged_delegate = orders_merged_delegate.drop('Event_Plan_Name', 1)\n",
    "orders_merged_delegate = orders_merged_delegate.drop('Promotion_Plan', 1)\n",
    "orders_merged_delegate = orders_merged_delegate.drop('Type', 1)\n",
    "orders_merged_delegate = pd.concat([orders_merged_delegate.drop('Topic_Area', axis=1)\\\n",
    "                                    , pd.get_dummies(orders_merged_delegate['Topic_Area'])], axis=1)\n",
    "orders_merged_delegate = pd.concat([orders_merged_delegate.drop('job_title', axis=1)\\\n",
    "                                    , pd.get_dummies(orders_merged_delegate['job_title'])], axis=1)\n",
    "orders_merged_delegate = pd.concat([orders_merged_delegate.drop('Sales_Source_Cat', axis=1)\\\n",
    "                                    , pd.get_dummies(orders_merged_delegate['Sales_Source_Cat'])], axis=1)\n",
    "orders_merged_delegate = orders_merged_delegate.drop('Sales_Source', axis=1)\n",
    "orders_merged_delegate = pd.concat([orders_merged_delegate.drop('Sales_Method', axis=1)\\\n",
    "                                    , pd.get_dummies(orders_merged_delegate['Sales_Method'])], axis=1)\n",
    "orders_merged_delegate = orders_merged_delegate.drop('Registration_Type', 1)\n",
    "orders_merged_delegate = orders_merged_delegate.drop('Contact_Job_Title', 1)\n",
    "orders_merged_delegate = orders_merged_delegate.drop('Registration_Channel', 1)\n",
    "orders_merged_delegate = orders_merged_delegate.drop('Order_Number', 1)\n",
    "orders_merged_delegate = orders_merged_delegate.drop('MAC', 1)\n",
    "orders_merged_delegate = orders_merged_delegate.drop('Currency', 1)\n",
    "orders_merged_delegate = orders_merged_delegate.drop('Contact_Job_Function', 1)\n",
    "orders_merged_delegate = orders_merged_delegate.drop('Campaign_Name', 1)\n",
    "orders_merged_delegate = orders_merged_delegate.drop('Account_Name', 1)\n",
    "orders_merged_delegate = orders_merged_delegate.drop('Account_Market', 1)\n",
    "orders_merged_delegate = pd.concat([orders_merged_delegate.drop('Price_List_Type', axis=1)\\\n",
    "                                    , pd.get_dummies(orders_merged_delegate['Price_List_Type'])], axis=1)\n",
    "orders_merged_delegate = orders_merged_delegate.drop('Price_List', 1)\n",
    "orders_merged_delegate = orders_merged_delegate.drop('Created', 1)\n",
    "orders_merged_delegate = orders_merged_delegate.drop('Account_SIC', 1)\n",
    "orders_merged_delegate = orders_merged_delegate.drop('Upsell', 1)\n",
    "orders_merged_delegate = orders_merged_delegate.drop('Sales_and_Mktg_ROI', 1)\n",
    "orders_merged_delegate = orders_merged_delegate.drop('Active_Conversion_Rate', 1)\n",
    "orders_merged_delegate = orders_merged_delegate.drop('Mktg_perc_of_ttl_Rev', 1)\n",
    "orders_merged_delegate = orders_merged_delegate.drop('Passive_Conversion_Rate', 1)\n",
    "\n",
    "# Note for future examination - maybe reintroduce account SIC later via LabelEncoder?\n",
    "orders_merged_delegate = orders_merged_delegate.fillna(orders_merged_delegate.mean())"
   ]
  },
  {
   "cell_type": "code",
   "execution_count": 218,
   "metadata": {},
   "outputs": [
    {
     "data": {
      "text/plain": [
       "LinearRegression(copy_X=True, fit_intercept=True, n_jobs=1, normalize=False)"
      ]
     },
     "execution_count": 218,
     "metadata": {},
     "output_type": "execute_result"
    }
   ],
   "source": [
    "from sklearn.linear_model import LinearRegression\n",
    "\n",
    "#removing features that are collinear or not meaningful\n",
    "orders_merged_delegate = orders_merged_delegate.drop('Vendor', 1)\n",
    "orders_merged_delegate = orders_merged_delegate.drop('Sell Side', 1)\n",
    "orders_merged_delegate = orders_merged_delegate.drop('Defense Manufacturer', 1)\n",
    "orders_merged_delegate = orders_merged_delegate.drop('Code', 1)\n",
    "orders_merged_delegate = orders_merged_delegate.drop('id', 1)\n",
    "orders_merged_delegate = orders_merged_delegate.drop('Mktg_Cost__fcst', 1)\n",
    "orders_merged_delegate = orders_merged_delegate.drop('Mktg_Cost_act', 1)\n",
    "orders_merged_delegate = orders_merged_delegate.drop('Cost_of_Acquisition', 1)\n",
    "orders_merged_delegate = orders_merged_delegate.drop('PP__fcst', 1)\n",
    "orders_merged_delegate = orders_merged_delegate.drop('ROI__fcst', 1)\n",
    "orders_merged_delegate = orders_merged_delegate.drop('ROI__act', 1)\n",
    "orders_merged_delegate = orders_merged_delegate.drop('All_Revenue', 1)\n",
    "orders_merged_delegate = orders_merged_delegate.drop('Marketing', 1)\n",
    "orders_merged_delegate_grouped = orders_merged_delegate\n",
    "orders_merged_delegate = orders_merged_delegate.drop('Event_Plan_Code', 1)\n",
    "\n",
    "#looking at primary passes only\n",
    "orders_merged_delegate_primary = orders_merged_delegate[orders_merged_delegate.Primary == 1]\n",
    "\n",
    "orders_merged_delegate_primary = orders_merged_delegate_primary.drop('Primary', 1)\n",
    "\n",
    "y = orders_merged_delegate_primary['Total_Net_Price']\n",
    "X = orders_merged_delegate_primary.drop('Total_Net_Price', 1)\n",
    "\n",
    "lm = LinearRegression()\n",
    "lm.fit(X, y)"
   ]
  },
  {
   "cell_type": "code",
   "execution_count": 219,
   "metadata": {},
   "outputs": [
    {
     "data": {
      "text/html": [
       "<div>\n",
       "<style scoped>\n",
       "    .dataframe tbody tr th:only-of-type {\n",
       "        vertical-align: middle;\n",
       "    }\n",
       "\n",
       "    .dataframe tbody tr th {\n",
       "        vertical-align: top;\n",
       "    }\n",
       "\n",
       "    .dataframe thead th {\n",
       "        text-align: right;\n",
       "    }\n",
       "</style>\n",
       "<table border=\"1\" class=\"dataframe\">\n",
       "  <thead>\n",
       "    <tr style=\"text-align: right;\">\n",
       "      <th></th>\n",
       "      <th>Features</th>\n",
       "      <th>Estimated_Coeffs</th>\n",
       "    </tr>\n",
       "  </thead>\n",
       "  <tbody>\n",
       "    <tr>\n",
       "      <th>45</th>\n",
       "      <td>Full Delegate Sale</td>\n",
       "      <td>-252.198421</td>\n",
       "    </tr>\n",
       "    <tr>\n",
       "      <th>44</th>\n",
       "      <td>ACD Conversion</td>\n",
       "      <td>-241.637779</td>\n",
       "    </tr>\n",
       "    <tr>\n",
       "      <th>47</th>\n",
       "      <td>PDF Conversion</td>\n",
       "      <td>-203.677962</td>\n",
       "    </tr>\n",
       "    <tr>\n",
       "      <th>43</th>\n",
       "      <td>Delegate Sales</td>\n",
       "      <td>-185.815869</td>\n",
       "    </tr>\n",
       "    <tr>\n",
       "      <th>32</th>\n",
       "      <td>HR</td>\n",
       "      <td>-140.924734</td>\n",
       "    </tr>\n",
       "    <tr>\n",
       "      <th>46</th>\n",
       "      <td>Inquiry Conversion</td>\n",
       "      <td>-99.902770</td>\n",
       "    </tr>\n",
       "    <tr>\n",
       "      <th>35</th>\n",
       "      <td>Procurement</td>\n",
       "      <td>74.080644</td>\n",
       "    </tr>\n",
       "    <tr>\n",
       "      <th>34</th>\n",
       "      <td>Pharma</td>\n",
       "      <td>68.909413</td>\n",
       "    </tr>\n",
       "    <tr>\n",
       "      <th>36</th>\n",
       "      <td>Retail</td>\n",
       "      <td>-68.135126</td>\n",
       "    </tr>\n",
       "    <tr>\n",
       "      <th>42</th>\n",
       "      <td>VP</td>\n",
       "      <td>38.873582</td>\n",
       "    </tr>\n",
       "    <tr>\n",
       "      <th>38</th>\n",
       "      <td>Consultant</td>\n",
       "      <td>-36.331701</td>\n",
       "    </tr>\n",
       "    <tr>\n",
       "      <th>0</th>\n",
       "      <td>Group_Size</td>\n",
       "      <td>-34.763616</td>\n",
       "    </tr>\n",
       "    <tr>\n",
       "      <th>31</th>\n",
       "      <td>Finance</td>\n",
       "      <td>31.171343</td>\n",
       "    </tr>\n",
       "    <tr>\n",
       "      <th>41</th>\n",
       "      <td>Other</td>\n",
       "      <td>-19.801929</td>\n",
       "    </tr>\n",
       "    <tr>\n",
       "      <th>33</th>\n",
       "      <td>Logistics</td>\n",
       "      <td>19.080272</td>\n",
       "    </tr>\n",
       "    <tr>\n",
       "      <th>30</th>\n",
       "      <td>CX</td>\n",
       "      <td>15.818188</td>\n",
       "    </tr>\n",
       "    <tr>\n",
       "      <th>37</th>\n",
       "      <td>C-Level</td>\n",
       "      <td>15.374063</td>\n",
       "    </tr>\n",
       "    <tr>\n",
       "      <th>12</th>\n",
       "      <td>Sales_Rev</td>\n",
       "      <td>13.840506</td>\n",
       "    </tr>\n",
       "    <tr>\n",
       "      <th>19</th>\n",
       "      <td>Total_EQ_Rev</td>\n",
       "      <td>13.840158</td>\n",
       "    </tr>\n",
       "    <tr>\n",
       "      <th>3</th>\n",
       "      <td>Total_Rev</td>\n",
       "      <td>-13.839858</td>\n",
       "    </tr>\n",
       "    <tr>\n",
       "      <th>8</th>\n",
       "      <td>Mktg_Rev</td>\n",
       "      <td>13.835533</td>\n",
       "    </tr>\n",
       "    <tr>\n",
       "      <th>39</th>\n",
       "      <td>Director</td>\n",
       "      <td>9.129212</td>\n",
       "    </tr>\n",
       "    <tr>\n",
       "      <th>40</th>\n",
       "      <td>Manager</td>\n",
       "      <td>-7.243226</td>\n",
       "    </tr>\n",
       "    <tr>\n",
       "      <th>13</th>\n",
       "      <td>Sales_perc_of_ttl_rev</td>\n",
       "      <td>3.617327</td>\n",
       "    </tr>\n",
       "    <tr>\n",
       "      <th>21</th>\n",
       "      <td>EQ_perc_of_ttl_Rev</td>\n",
       "      <td>2.977263</td>\n",
       "    </tr>\n",
       "    <tr>\n",
       "      <th>7</th>\n",
       "      <td>Mktg_Dels</td>\n",
       "      <td>2.452190</td>\n",
       "    </tr>\n",
       "    <tr>\n",
       "      <th>1</th>\n",
       "      <td>Days_Ahead_of_Event</td>\n",
       "      <td>-1.457600</td>\n",
       "    </tr>\n",
       "    <tr>\n",
       "      <th>28</th>\n",
       "      <td>Num_SPKRs</td>\n",
       "      <td>1.133470</td>\n",
       "    </tr>\n",
       "    <tr>\n",
       "      <th>16</th>\n",
       "      <td>Active_Inq_Del</td>\n",
       "      <td>-0.771023</td>\n",
       "    </tr>\n",
       "    <tr>\n",
       "      <th>2</th>\n",
       "      <td>Total_Dels</td>\n",
       "      <td>0.719207</td>\n",
       "    </tr>\n",
       "    <tr>\n",
       "      <th>5</th>\n",
       "      <td>Total_Guests</td>\n",
       "      <td>-0.684560</td>\n",
       "    </tr>\n",
       "    <tr>\n",
       "      <th>18</th>\n",
       "      <td>Passive_PDF_Del</td>\n",
       "      <td>-0.671427</td>\n",
       "    </tr>\n",
       "    <tr>\n",
       "      <th>29</th>\n",
       "      <td>Avg_Pricepoint</td>\n",
       "      <td>0.379925</td>\n",
       "    </tr>\n",
       "    <tr>\n",
       "      <th>26</th>\n",
       "      <td>Props_Last_Year</td>\n",
       "      <td>0.327360</td>\n",
       "    </tr>\n",
       "    <tr>\n",
       "      <th>4</th>\n",
       "      <td>Booking_Pattern_Comparison</td>\n",
       "      <td>0.303125</td>\n",
       "    </tr>\n",
       "    <tr>\n",
       "      <th>11</th>\n",
       "      <td>Sales_Dels</td>\n",
       "      <td>-0.290533</td>\n",
       "    </tr>\n",
       "    <tr>\n",
       "      <th>6</th>\n",
       "      <td>Avg_Cost_of_Acquisition</td>\n",
       "      <td>-0.278218</td>\n",
       "    </tr>\n",
       "    <tr>\n",
       "      <th>20</th>\n",
       "      <td>EQ_Price_Point</td>\n",
       "      <td>0.257291</td>\n",
       "    </tr>\n",
       "    <tr>\n",
       "      <th>9</th>\n",
       "      <td>Mktg_Price_Point</td>\n",
       "      <td>0.126258</td>\n",
       "    </tr>\n",
       "    <tr>\n",
       "      <th>14</th>\n",
       "      <td>Sales_Price_Point</td>\n",
       "      <td>0.115769</td>\n",
       "    </tr>\n",
       "    <tr>\n",
       "      <th>17</th>\n",
       "      <td>Num_Passive_PDF</td>\n",
       "      <td>0.084501</td>\n",
       "    </tr>\n",
       "    <tr>\n",
       "      <th>25</th>\n",
       "      <td>Num_Spex_Props</td>\n",
       "      <td>0.074573</td>\n",
       "    </tr>\n",
       "    <tr>\n",
       "      <th>24</th>\n",
       "      <td>Num_Spex_EQs</td>\n",
       "      <td>0.022167</td>\n",
       "    </tr>\n",
       "    <tr>\n",
       "      <th>27</th>\n",
       "      <td>Num_TMs</td>\n",
       "      <td>0.008053</td>\n",
       "    </tr>\n",
       "    <tr>\n",
       "      <th>10</th>\n",
       "      <td>PP__act</td>\n",
       "      <td>0.002663</td>\n",
       "    </tr>\n",
       "    <tr>\n",
       "      <th>15</th>\n",
       "      <td>Num_Active_Inq</td>\n",
       "      <td>0.000179</td>\n",
       "    </tr>\n",
       "    <tr>\n",
       "      <th>22</th>\n",
       "      <td>Spex_Rev</td>\n",
       "      <td>-0.000066</td>\n",
       "    </tr>\n",
       "    <tr>\n",
       "      <th>23</th>\n",
       "      <td>Spex_Last_Year</td>\n",
       "      <td>-0.000063</td>\n",
       "    </tr>\n",
       "  </tbody>\n",
       "</table>\n",
       "</div>"
      ],
      "text/plain": [
       "                      Features  Estimated_Coeffs\n",
       "45          Full Delegate Sale       -252.198421\n",
       "44              ACD Conversion       -241.637779\n",
       "47              PDF Conversion       -203.677962\n",
       "43              Delegate Sales       -185.815869\n",
       "32                          HR       -140.924734\n",
       "46          Inquiry Conversion        -99.902770\n",
       "35                 Procurement         74.080644\n",
       "34                      Pharma         68.909413\n",
       "36                      Retail        -68.135126\n",
       "42                          VP         38.873582\n",
       "38                  Consultant        -36.331701\n",
       "0                   Group_Size        -34.763616\n",
       "31                     Finance         31.171343\n",
       "41                       Other        -19.801929\n",
       "33                   Logistics         19.080272\n",
       "30                          CX         15.818188\n",
       "37                     C-Level         15.374063\n",
       "12                   Sales_Rev         13.840506\n",
       "19                Total_EQ_Rev         13.840158\n",
       "3                    Total_Rev        -13.839858\n",
       "8                     Mktg_Rev         13.835533\n",
       "39                    Director          9.129212\n",
       "40                     Manager         -7.243226\n",
       "13       Sales_perc_of_ttl_rev          3.617327\n",
       "21          EQ_perc_of_ttl_Rev          2.977263\n",
       "7                    Mktg_Dels          2.452190\n",
       "1          Days_Ahead_of_Event         -1.457600\n",
       "28                   Num_SPKRs          1.133470\n",
       "16              Active_Inq_Del         -0.771023\n",
       "2                   Total_Dels          0.719207\n",
       "5                 Total_Guests         -0.684560\n",
       "18             Passive_PDF_Del         -0.671427\n",
       "29              Avg_Pricepoint          0.379925\n",
       "26             Props_Last_Year          0.327360\n",
       "4   Booking_Pattern_Comparison          0.303125\n",
       "11                  Sales_Dels         -0.290533\n",
       "6      Avg_Cost_of_Acquisition         -0.278218\n",
       "20              EQ_Price_Point          0.257291\n",
       "9             Mktg_Price_Point          0.126258\n",
       "14           Sales_Price_Point          0.115769\n",
       "17             Num_Passive_PDF          0.084501\n",
       "25              Num_Spex_Props          0.074573\n",
       "24                Num_Spex_EQs          0.022167\n",
       "27                     Num_TMs          0.008053\n",
       "10                     PP__act          0.002663\n",
       "15              Num_Active_Inq          0.000179\n",
       "22                    Spex_Rev         -0.000066\n",
       "23              Spex_Last_Year         -0.000063"
      ]
     },
     "execution_count": 219,
     "metadata": {},
     "output_type": "execute_result"
    }
   ],
   "source": [
    "Coefs = pd.DataFrame(list(zip(np.array(list(X)), lm.coef_)), columns = ['Features', 'Estimated_Coeffs'])\n",
    "Coefs.reindex(Coefs.Estimated_Coeffs.abs().sort_values(inplace=False, ascending = False).index)"
   ]
  },
  {
   "cell_type": "code",
   "execution_count": 220,
   "metadata": {},
   "outputs": [
    {
     "name": "stdout",
     "output_type": "stream",
     "text": [
      "                            OLS Regression Results                            \n",
      "==============================================================================\n",
      "Dep. Variable:        Total_Net_Price   R-squared:                       0.599\n",
      "Model:                            OLS   Adj. R-squared:                  0.598\n",
      "Method:                 Least Squares   F-statistic:                     594.7\n",
      "Date:                Sun, 09 Sep 2018   Prob (F-statistic):               0.00\n",
      "Time:                        13:44:37   Log-Likelihood:            -1.3463e+05\n",
      "No. Observations:               17997   AIC:                         2.694e+05\n",
      "Df Residuals:                   17951   BIC:                         2.697e+05\n",
      "Df Model:                          45                                         \n",
      "Covariance Type:            nonrobust                                         \n",
      "==============================================================================================\n",
      "                                 coef    std err          t      P>|t|      [0.025      0.975]\n",
      "----------------------------------------------------------------------------------------------\n",
      "const                         68.8719     50.950      1.352      0.176     -30.996     168.740\n",
      "Group_Size                   -34.7636      1.564    -22.228      0.000     -37.829     -31.698\n",
      "Days_Ahead_of_Event           -1.4576      0.070    -20.724      0.000      -1.595      -1.320\n",
      "Total_Dels                     0.7192      0.235      3.064      0.002       0.259       1.179\n",
      "Total_Rev                    -13.8399      7.255     -1.908      0.056     -28.060       0.381\n",
      "Booking_Pattern_Comparison     0.3031      0.087      3.499      0.000       0.133       0.473\n",
      "Total_Guests                  -0.6846      0.067    -10.197      0.000      -0.816      -0.553\n",
      "Avg_Cost_of_Acquisition       -0.2782      0.082     -3.383      0.001      -0.439      -0.117\n",
      "Mktg_Dels                      2.4522      0.693      3.539      0.000       1.094       3.810\n",
      "Mktg_Rev                      13.8355      7.255      1.907      0.057      -0.385      28.056\n",
      "Mktg_Price_Point               0.1263      0.018      7.209      0.000       0.092       0.161\n",
      "PP__act                        0.0027      0.000      5.475      0.000       0.002       0.004\n",
      "Sales_Dels                    -0.2905      0.498     -0.583      0.560      -1.268       0.686\n",
      "Sales_Rev                     13.8405      7.255      1.908      0.056      -0.380      28.061\n",
      "Sales_perc_of_ttl_rev          3.6173      0.858      4.215      0.000       1.935       5.300\n",
      "Sales_Price_Point              0.1158      0.042      2.728      0.006       0.033       0.199\n",
      "Num_Active_Inq                 0.0002      0.076      0.002      0.998      -0.150       0.150\n",
      "Active_Inq_Del                -0.7710      0.486     -1.585      0.113      -1.724       0.182\n",
      "Num_Passive_PDF                0.0845      0.014      5.920      0.000       0.057       0.112\n",
      "Passive_PDF_Del               -0.6714      0.355     -1.891      0.059      -1.367       0.025\n",
      "Total_EQ_Rev                  13.8402      7.255      1.908      0.056      -0.380      28.061\n",
      "EQ_Price_Point                 0.2573      0.041      6.226      0.000       0.176       0.338\n",
      "EQ_perc_of_ttl_Rev             2.9773      0.809      3.681      0.000       1.392       4.563\n",
      "Spex_Rev                   -6.557e-05   2.83e-05     -2.318      0.020      -0.000   -1.01e-05\n",
      "Spex_Last_Year             -6.268e-05   1.61e-05     -3.904      0.000   -9.42e-05   -3.12e-05\n",
      "Num_Spex_EQs                   0.0222      0.019      1.165      0.244      -0.015       0.059\n",
      "Num_Spex_Props                 0.0746      0.213      0.350      0.726      -0.343       0.492\n",
      "Props_Last_Year                0.3274      0.182      1.795      0.073      -0.030       0.685\n",
      "Num_TMs                        0.0081      0.013      0.637      0.524      -0.017       0.033\n",
      "Num_SPKRs                      1.1335      0.299      3.787      0.000       0.547       1.720\n",
      "Avg_Pricepoint                 0.3799      0.085      4.449      0.000       0.213       0.547\n",
      "CX                            25.6570     16.031      1.600      0.110      -5.766      57.080\n",
      "Finance                       41.0102     16.004      2.563      0.010       9.641      72.379\n",
      "HR                          -131.0859     21.712     -6.038      0.000    -173.643     -88.529\n",
      "Logistics                     28.9191     11.716      2.468      0.014       5.955      51.884\n",
      "Pharma                        78.7483     23.122      3.406      0.001      33.427     124.069\n",
      "Procurement                   83.9195     13.178      6.368      0.000      58.090     109.749\n",
      "Retail                       -58.2963     11.560     -5.043      0.000     -80.956     -35.637\n",
      "C-Level                       26.8527     14.440      1.860      0.063      -1.451      55.156\n",
      "Consultant                   -24.8530     37.816     -0.657      0.511     -98.975      49.269\n",
      "Director                      20.6079     12.298      1.676      0.094      -3.498      44.714\n",
      "Manager                        4.2354     12.027      0.352      0.725     -19.339      27.810\n",
      "Other                         -8.3233     12.341     -0.674      0.500     -32.513      15.867\n",
      "VP                            50.3522     13.731      3.667      0.000      23.438      77.266\n",
      "Delegate Sales              -185.8159     27.289     -6.809      0.000    -239.306    -132.326\n",
      "ACD Conversion              -241.6378     35.301     -6.845      0.000    -310.832    -172.444\n",
      "Full Delegate Sale          -252.1984     28.413     -8.876      0.000    -307.890    -196.507\n",
      "Inquiry Conversion           -99.9028     29.312     -3.408      0.001    -157.357     -42.449\n",
      "PDF Conversion              -203.6780     28.626     -7.115      0.000    -259.788    -147.568\n",
      "==============================================================================\n",
      "Omnibus:                     5770.105   Durbin-Watson:                   1.410\n",
      "Prob(Omnibus):                  0.000   Jarque-Bera (JB):            46066.523\n",
      "Skew:                           1.319   Prob(JB):                         0.00\n",
      "Kurtosis:                      10.381   Cond. No.                     1.35e+16\n",
      "==============================================================================\n",
      "\n",
      "Warnings:\n",
      "[1] Standard Errors assume that the covariance matrix of the errors is correctly specified.\n",
      "[2] The smallest eigenvalue is 8.36e-16. This might indicate that there are\n",
      "strong multicollinearity problems or that the design matrix is singular.\n"
     ]
    }
   ],
   "source": [
    "import statsmodels.api as sm\n",
    "from scipy import stats\n",
    "\n",
    "X2 = sm.add_constant(X)\n",
    "est = sm.OLS(y, X2.astype(float))\n",
    "est2 = est.fit()\n",
    "print(est2.summary())"
   ]
  },
  {
   "cell_type": "code",
   "execution_count": 221,
   "metadata": {},
   "outputs": [
    {
     "name": "stdout",
     "output_type": "stream",
     "text": [
      "                            OLS Regression Results                            \n",
      "==============================================================================\n",
      "Dep. Variable:        Total_Net_Price   R-squared:                       0.348\n",
      "Model:                            OLS   Adj. R-squared:                  0.347\n",
      "Method:                 Least Squares   F-statistic:                     958.9\n",
      "Date:                Sun, 09 Sep 2018   Prob (F-statistic):               0.00\n",
      "Time:                        13:44:41   Log-Likelihood:            -1.3900e+05\n",
      "No. Observations:               17997   AIC:                         2.780e+05\n",
      "Df Residuals:                   17986   BIC:                         2.781e+05\n",
      "Df Model:                          10                                         \n",
      "Covariance Type:            nonrobust                                         \n",
      "=======================================================================================\n",
      "                          coef    std err          t      P>|t|      [0.025      0.975]\n",
      "---------------------------------------------------------------------------------------\n",
      "const                1521.0098     12.384    122.817      0.000    1496.735    1545.284\n",
      "Group_Size            -47.1508      1.943    -24.265      0.000     -50.959     -43.342\n",
      "Days_Ahead_of_Event    -0.6682      0.088     -7.624      0.000      -0.840      -0.496\n",
      "CX                    407.5257     18.560     21.957      0.000     371.146     443.906\n",
      "Finance               403.2675     18.798     21.453      0.000     366.422     440.113\n",
      "Pharma               1473.9052     19.741     74.663      0.000    1435.212    1512.599\n",
      "Logistics             429.8476     10.811     39.759      0.000     408.656     451.039\n",
      "HR                   -281.2041     25.912    -10.852      0.000    -331.995    -230.413\n",
      "Procurement           233.6566     13.626     17.148      0.000     206.948     260.365\n",
      "Delegate Sales       -270.0779     11.720    -23.044      0.000    -293.051    -247.105\n",
      "Full Delegate Sale   -113.6519      8.870    -12.813      0.000    -131.039     -96.265\n",
      "==============================================================================\n",
      "Omnibus:                     2740.519   Durbin-Watson:                   0.890\n",
      "Prob(Omnibus):                  0.000   Jarque-Bera (JB):            10636.627\n",
      "Skew:                           0.725   Prob(JB):                         0.00\n",
      "Kurtosis:                       6.476   Cond. No.                         534.\n",
      "==============================================================================\n",
      "\n",
      "Warnings:\n",
      "[1] Standard Errors assume that the covariance matrix of the errors is correctly specified.\n"
     ]
    }
   ],
   "source": [
    "X_lim = orders_merged_delegate_primary[['Group_Size', 'Days_Ahead_of_Event', 'CX', 'Finance', 'Pharma', 'Logistics',\\\n",
    "                                        'HR', 'Procurement', 'Delegate Sales', 'Full Delegate Sale']]\n",
    "\n",
    "X2 = sm.add_constant(X_lim)\n",
    "est = sm.OLS(y, X2.astype(float))\n",
    "est2 = est.fit()\n",
    "print(est2.summary())"
   ]
  },
  {
   "cell_type": "code",
   "execution_count": 222,
   "metadata": {},
   "outputs": [
    {
     "name": "stdout",
     "output_type": "stream",
     "text": [
      "[3.76606954e-03 1.15754985e-02 0.00000000e+00 5.96641891e-03\n",
      " 0.00000000e+00 0.00000000e+00 6.99034765e-04 3.87778844e-03\n",
      " 0.00000000e+00 1.17619764e-02 0.00000000e+00 0.00000000e+00\n",
      " 1.89806131e-03 0.00000000e+00 1.13869624e-01 0.00000000e+00\n",
      " 0.00000000e+00 7.72342920e-03 0.00000000e+00 0.00000000e+00\n",
      " 1.74999983e-02 1.57572161e-03 3.55792234e-05 0.00000000e+00\n",
      " 0.00000000e+00 0.00000000e+00 0.00000000e+00 1.36578166e-03\n",
      " 1.84517747e-03 7.44221382e-01 0.00000000e+00 0.00000000e+00\n",
      " 0.00000000e+00 8.89109840e-04 0.00000000e+00 0.00000000e+00\n",
      " 0.00000000e+00 0.00000000e+00 5.72947977e-04 0.00000000e+00\n",
      " 0.00000000e+00 0.00000000e+00 0.00000000e+00 7.01831787e-02\n",
      " 0.00000000e+00 6.73222325e-04 0.00000000e+00 0.00000000e+00\n",
      " 0.00000000e+00]\n",
      "[ 709.75658533 1501.82303056 3181.28859299 ...  975.78888107  709.75658533\n",
      " 1371.15607802]\n",
      "0.5265961977763802\n"
     ]
    }
   ],
   "source": [
    "from sklearn.model_selection import train_test_split\n",
    "from sklearn.ensemble import RandomForestRegressor\n",
    "from sklearn.datasets import make_regression\n",
    "\n",
    "# Random Forest\n",
    "\n",
    "#looking at primary passes only\n",
    "orders_merged_delegate_primary = orders_merged_delegate[orders_merged_delegate.Primary == 1]\n",
    "\n",
    "y = orders_merged_delegate_primary['Total_Net_Price']\n",
    "X = orders_merged_delegate_primary.drop('Total_Net_Price', 1)\n",
    "\n",
    "X_train, X_test, y_train, y_test = train_test_split(X, y, test_size=0.2, random_state=1)\n",
    "regr = RandomForestRegressor(max_depth=4, random_state=1)\n",
    "regr.fit(X_train, y_train)\n",
    "\n",
    "print(regr.feature_importances_)\n",
    "\n",
    "print(regr.predict(X_test))\n",
    "\n",
    "print(regr.score(X_test, y_test))"
   ]
  },
  {
   "cell_type": "code",
   "execution_count": 224,
   "metadata": {},
   "outputs": [
    {
     "name": "stdout",
     "output_type": "stream",
     "text": [
      "[ 476.21855745 1470.74198678 2862.48254405 ... 1197.68599872  501.26580556\n",
      " 1523.39003431]\n",
      "[-3.36951177e+01 -1.45674725e+00  6.20698756e-02  0.00000000e+00\n",
      "  2.72828027e-01 -7.46811267e-01 -3.36695205e-01  2.86992513e+00\n",
      " -3.73329843e-03  1.20315917e-01  2.13146682e-03  2.85854897e-01\n",
      "  5.39782018e-04  3.55911529e+00  1.21227514e-01 -0.00000000e+00\n",
      "  3.92841964e-01  9.72695333e-02  0.00000000e+00  2.39620758e-04\n",
      "  2.58032411e-01  2.52285282e+00 -5.14940583e-05 -4.79307408e-05\n",
      "  1.26618414e-02  1.84389374e-01  4.08035698e-01  7.72523476e-03\n",
      "  9.79415879e-01  3.81082150e-01 -1.86583352e+01  1.01106325e+01\n",
      " -1.69247498e+02  0.00000000e+00  4.51489040e+01  4.67758404e+01\n",
      " -9.69717631e+01  3.54530118e+00 -2.98709131e+01  0.00000000e+00\n",
      " -1.50723571e+01 -2.55056268e+01  2.86625771e+01 -1.92579271e+02\n",
      " -2.19611961e+02 -2.28713876e+02 -7.66386381e+01 -1.74947787e+02\n",
      "  0.00000000e+00]\n",
      "128.35149608932375\n"
     ]
    },
    {
     "name": "stderr",
     "output_type": "stream",
     "text": [
      "/anaconda3/lib/python3.6/site-packages/sklearn/linear_model/coordinate_descent.py:491: ConvergenceWarning: Objective did not converge. You might want to increase the number of iterations. Fitting data with very small alpha may cause precision problems.\n",
      "  ConvergenceWarning)\n"
     ]
    }
   ],
   "source": [
    "### Lasso\n",
    "from sklearn.linear_model import Lasso\n",
    "lassoreg = Lasso(alpha=0.001,normalize=True, max_iter=1000)\n",
    "lassoreg.fit(X_train, y_train)\n",
    "print(lassoreg.predict(X_test))\n",
    "print(lassoreg.coef_)\n",
    "print(lassoreg.intercept_)"
   ]
  },
  {
   "cell_type": "code",
   "execution_count": 225,
   "metadata": {},
   "outputs": [],
   "source": [
    "headers = list(orders_merged_delegate_primary)\n",
    "coef = lassoreg.coef_\n",
    "headers.pop(0)\n",
    "lasso_coef = pd.DataFrame(\n",
    "    {'header': headers,\n",
    "     'coef': coef,\n",
    "    })"
   ]
  },
  {
   "cell_type": "code",
   "execution_count": 226,
   "metadata": {},
   "outputs": [
    {
     "name": "stdout",
     "output_type": "stream",
     "text": [
      "                header        coef\n",
      "0           Group_Size  -33.695118\n",
      "30                  CX  -18.658335\n",
      "31             Finance   10.110632\n",
      "32                  HR -169.247498\n",
      "34              Pharma   45.148904\n",
      "35         Procurement   46.775840\n",
      "36              Retail  -96.971763\n",
      "38          Consultant  -29.870913\n",
      "40             Manager  -15.072357\n",
      "41               Other  -25.505627\n",
      "42                  VP   28.662577\n",
      "43      Delegate Sales -192.579271\n",
      "44      ACD Conversion -219.611961\n",
      "45  Full Delegate Sale -228.713876\n",
      "46  Inquiry Conversion  -76.638638\n",
      "47      PDF Conversion -174.947787\n"
     ]
    }
   ],
   "source": [
    "#Identifying the significantely large coefficients\n",
    "\n",
    "significant_coefs = lasso_coef[(lasso_coef.coef >= 10) | (lasso_coef.coef <= -10)]\n",
    "print(significant_coefs)"
   ]
  },
  {
   "cell_type": "code",
   "execution_count": 227,
   "metadata": {},
   "outputs": [
    {
     "name": "stdout",
     "output_type": "stream",
     "text": [
      "[2755.42 1349.   5198.   ... 2299.    699.    950.  ]\n",
      "0.48472726631535823\n"
     ]
    }
   ],
   "source": [
    "# Single Decision Tree\n",
    "from sklearn.tree import DecisionTreeRegressor\n",
    "clf = DecisionTreeRegressor(random_state=0)\n",
    "\n",
    "clf.fit(X_train, y_train)\n",
    "print(clf.predict(X_test))\n",
    "print(clf.score(X_test, y_test))\n"
   ]
  },
  {
   "cell_type": "code",
   "execution_count": 228,
   "metadata": {},
   "outputs": [
    {
     "name": "stdout",
     "output_type": "stream",
     "text": [
      "0.5170820220753309 {'max_depth': 4}\n"
     ]
    }
   ],
   "source": [
    "from sklearn import tree\n",
    "from sklearn.model_selection import GridSearchCV\n",
    "\n",
    "parameters = {'max_depth':range(3,20)}\n",
    "clf = GridSearchCV(tree.DecisionTreeRegressor(), parameters, n_jobs=4)\n",
    "clf.fit(X=X_test, y=y_test)\n",
    "tree_model = clf.best_estimator_\n",
    "print (clf.best_score_, clf.best_params_) "
   ]
  },
  {
   "cell_type": "code",
   "execution_count": 229,
   "metadata": {},
   "outputs": [],
   "source": [
    "orders_selected = orders_merged_delegate_primary[['Group_Size', 'Finance', 'HR', 'Pharma', \\\n",
    "                                                  'Procurement', 'Retail', 'C-Level', 'Consultant', 'Other', \\\n",
    "                                                 'Delegate Sales', 'ACD Conversion', 'Full Delegate Sale', \\\n",
    "                                                 'Inquiry Conversion', 'PDF Conversion']]"
   ]
  },
  {
   "cell_type": "code",
   "execution_count": 230,
   "metadata": {},
   "outputs": [
    {
     "name": "stdout",
     "output_type": "stream",
     "text": [
      "[5.66412269e-02 0.00000000e+00 7.79981567e-02 5.21022615e-01\n",
      " 0.00000000e+00 2.07025006e-01 1.43236259e-02 1.06100550e-03\n",
      " 1.09747762e-03 1.10656492e-01 4.99184662e-04 1.92545519e-04\n",
      " 9.32665156e-03 1.56012086e-04]\n",
      "[1015.34091053 1015.34091053 2821.34556929 ... 1015.34091053 1015.34091053\n",
      " 1440.3045617 ]\n",
      "0.3361366994051336\n"
     ]
    }
   ],
   "source": [
    "X = orders_selected\n",
    "\n",
    "X_train, X_test, y_train, y_test = train_test_split(X, y, test_size=0.2, random_state=1)\n",
    "regr = RandomForestRegressor(max_depth=4, random_state=1)\n",
    "regr.fit(X_train, y_train)\n",
    "\n",
    "print(regr.feature_importances_)\n",
    "\n",
    "print(regr.predict(X_test))\n",
    "\n",
    "print(regr.score(X_test, y_test))"
   ]
  },
  {
   "cell_type": "code",
   "execution_count": 231,
   "metadata": {},
   "outputs": [
    {
     "name": "stdout",
     "output_type": "stream",
     "text": [
      "228286.35184924226\n"
     ]
    },
    {
     "data": {
      "text/plain": [
       "0.019185234884015797"
      ]
     },
     "execution_count": 231,
     "metadata": {},
     "output_type": "execute_result"
    }
   ],
   "source": [
    "y = orders_merged_delegate_primary['Total_Net_Price']\n",
    "X = orders_merged_delegate_primary.drop('Total_Net_Price', 1)\n",
    "\n",
    "X_train, X_test, y_train, y_test = train_test_split(X, y, test_size=0.2, random_state=1)\n",
    "regr = RandomForestRegressor(max_depth=4, random_state=1)\n",
    "regr.fit(X_train, y_train)\n",
    "\n",
    "y_pred = regr.predict(X_test)\n",
    "y_true = y_test.values\n",
    "print(mean_squared_error(y_true, y_pred))\n",
    "\n",
    "#Normalized Data\n",
    "normalized_y_pred = (y_pred-min(y_pred))/(max(y_pred)-min(y_pred))\n",
    "normalized_y_true = (y_true-min(y_true))/(max(y_true)-min(y_true))\n",
    "mean_squared_error(normalized_y_true, normalized_y_pred)"
   ]
  },
  {
   "cell_type": "code",
   "execution_count": 232,
   "metadata": {},
   "outputs": [
    {
     "name": "stdout",
     "output_type": "stream",
     "text": [
      "320130.36293234397\n"
     ]
    },
    {
     "data": {
      "text/plain": [
       "0.023189367120385995"
      ]
     },
     "execution_count": 232,
     "metadata": {},
     "output_type": "execute_result"
    }
   ],
   "source": [
    "from sklearn.metrics import mean_squared_error\n",
    "\n",
    "X = orders_selected\n",
    "\n",
    "X_train, X_test, y_train, y_test = train_test_split(X, y, test_size=0.2, random_state=1)\n",
    "regr = RandomForestRegressor(max_depth=4, random_state=1)\n",
    "regr.fit(X_train, y_train)\n",
    "\n",
    "y_pred = regr.predict(X_test)\n",
    "y_true = y_test.values\n",
    "print(mean_squared_error(y_true, y_pred))\n",
    "\n",
    "#Normalized Data\n",
    "normalized_y_pred = (y_pred-min(y_pred))/(max(y_pred)-min(y_pred))\n",
    "normalized_y_true = (y_true-min(y_true))/(max(y_true)-min(y_true))\n",
    "mean_squared_error(normalized_y_true, normalized_y_pred)"
   ]
  },
  {
   "cell_type": "code",
   "execution_count": 233,
   "metadata": {},
   "outputs": [
    {
     "name": "stdout",
     "output_type": "stream",
     "text": [
      "[-333709.43852632 -279082.17343985 -323057.91985335 -299567.94607651\n",
      " -287583.08898618 -326048.28850954 -299575.73008397 -274954.72921602\n",
      " -292204.65675201 -274494.01040921]\n"
     ]
    }
   ],
   "source": [
    "from sklearn.model_selection import cross_val_score\n",
    "\n",
    "scores = cross_val_score(regr, X_train, y_train, cv=10, scoring='neg_mean_squared_error')\n",
    "print(scores)"
   ]
  },
  {
   "cell_type": "code",
   "execution_count": null,
   "metadata": {},
   "outputs": [],
   "source": []
  },
  {
   "cell_type": "code",
   "execution_count": null,
   "metadata": {},
   "outputs": [],
   "source": []
  },
  {
   "cell_type": "markdown",
   "metadata": {},
   "source": [
    "### The below code is for a merged groupby by event, in an attempt to remove the individual sales person bias. Unfortuantelly the number of events doesnt allow for a proper random forrest regressor and results in overfitting."
   ]
  },
  {
   "cell_type": "code",
   "execution_count": 200,
   "metadata": {},
   "outputs": [],
   "source": [
    "#looking at primary passes only\n",
    "orders_merged_delegate_grouped_primary = orders_merged_delegate_grouped[orders_merged_delegate_grouped.Primary == 1]\n",
    "\n",
    "new_orders = orders_merged_delegate_grouped_primary.groupby(['Event_Plan_Code']).mean()"
   ]
  },
  {
   "cell_type": "code",
   "execution_count": 201,
   "metadata": {},
   "outputs": [
    {
     "name": "stdout",
     "output_type": "stream",
     "text": [
      "30719.3095106607\n"
     ]
    },
    {
     "data": {
      "text/plain": [
       "0.011303175985806114"
      ]
     },
     "execution_count": 201,
     "metadata": {},
     "output_type": "execute_result"
    }
   ],
   "source": [
    "y = new_orders['Total_Net_Price']\n",
    "X = new_orders.drop('Total_Net_Price', 1)\n",
    "\n",
    "## use decision tree here instead of the random forest\n",
    "\n",
    "X_train, X_test, y_train, y_test = train_test_split(X, y, test_size=0.2, random_state=1)\n",
    "regr = RandomForestRegressor(max_depth=4, random_state=1)\n",
    "regr.fit(X_train, y_train)\n",
    "\n",
    "y_pred = regr.predict(X_test)\n",
    "y_true = y_test.values\n",
    "print(mean_squared_error(y_true, y_pred))\n",
    "\n",
    "#Normalized Data\n",
    "normalized_y_pred = (y_pred-min(y_pred))/(max(y_pred)-min(y_pred))\n",
    "normalized_y_true = (y_true-min(y_true))/(max(y_true)-min(y_true))\n",
    "mean_squared_error(normalized_y_true, normalized_y_pred)"
   ]
  },
  {
   "cell_type": "code",
   "execution_count": 202,
   "metadata": {},
   "outputs": [
    {
     "name": "stdout",
     "output_type": "stream",
     "text": [
      "[1374.95478932  999.89932515 1044.89646181 1758.91873444 1072.31037161\n",
      "  247.55479921  449.14559888 1074.20478141  959.62413336 1564.17629896\n",
      " 2322.16962789 1499.12509626 1527.48822618 1405.8641305   962.89228771\n",
      " 1061.26268365 1256.73293388 1819.67785673 1143.57019836 1256.93725402\n",
      "  921.54877226 1492.96169045 2592.59923299 1114.38676187  669.33491847\n",
      " 1790.36334698 1515.82191272 1677.1067685  1123.30198834 1551.38967493\n",
      " 1272.13488664  724.98116942  956.64102879 1577.62553801 1162.26600909\n",
      " 1439.72313438 1160.98989356 1963.5031677  1299.52054205 1424.56383525\n",
      " 1327.21522237]\n",
      "[-4.96820719e+01 -2.14519234e+00  3.37604598e-01  1.82583127e-04\n",
      " -9.07931859e-02 -5.25431121e-01 -5.51141998e-01  2.16746387e+00\n",
      " -5.53485201e-03  6.91036075e-02  3.32152149e-03  4.24405893e-01\n",
      "  1.09552068e-03  2.04347816e-01 -1.54776325e-01 -3.11938906e-01\n",
      "  1.67908702e-01  1.91684954e+00  3.00388689e-04  2.59881802e-01\n",
      " -2.13292647e-04  1.25585759e-05 -1.53323138e-01 -4.53878347e-01\n",
      "  3.38449617e-01 -1.35955898e-02  1.02499017e+00  2.95862051e-01\n",
      " -9.84759018e-01  4.47704168e+01 -1.87854011e+02  2.42340009e+01\n",
      "  1.18802668e+02  2.50740863e+01 -8.05726471e+01 -8.14879833e+02\n",
      "  4.07515403e+02 -3.81698441e+00  3.04086607e+01 -5.21144124e+01\n",
      "  4.37560423e+02  9.39269906e+01 -9.13248014e+02 -3.96165592e+02\n",
      " -2.96325759e+02 -4.29985477e+02  0.00000000e+00]\n",
      "473.4385670017509\n"
     ]
    },
    {
     "name": "stderr",
     "output_type": "stream",
     "text": [
      "/anaconda3/lib/python3.6/site-packages/sklearn/linear_model/coordinate_descent.py:491: ConvergenceWarning: Objective did not converge. You might want to increase the number of iterations. Fitting data with very small alpha may cause precision problems.\n",
      "  ConvergenceWarning)\n"
     ]
    }
   ],
   "source": [
    "### Lasso\n",
    "from sklearn.linear_model import Lasso\n",
    "lassoreg = Lasso(alpha=0.001,normalize=True, max_iter=1000)\n",
    "lassoreg.fit(X_train, y_train)\n",
    "print(lassoreg.predict(X_test))\n",
    "print(lassoreg.coef_)\n",
    "print(lassoreg.intercept_)"
   ]
  },
  {
   "cell_type": "code",
   "execution_count": 203,
   "metadata": {},
   "outputs": [
    {
     "name": "stdout",
     "output_type": "stream",
     "text": [
      "                header        coef\n",
      "0           Group_Size  -49.682072\n",
      "29             Finance   44.770417\n",
      "30                  HR -187.854011\n",
      "31           Logistics   24.234001\n",
      "32              Pharma  118.802668\n",
      "33         Procurement   25.074086\n",
      "34              Retail  -80.572647\n",
      "35             C-Level -814.879833\n",
      "36          Consultant  407.515403\n",
      "38             Manager   30.408661\n",
      "39               Other  -52.114412\n",
      "40                  VP  437.560423\n",
      "41      Delegate Sales   93.926991\n",
      "42      ACD Conversion -913.248014\n",
      "43  Full Delegate Sale -396.165592\n",
      "44  Inquiry Conversion -296.325759\n",
      "45      PDF Conversion -429.985477\n"
     ]
    }
   ],
   "source": [
    "headers = list(new_orders)\n",
    "coef = lassoreg.coef_\n",
    "headers.pop(0)\n",
    "lasso_coef = pd.DataFrame(\n",
    "    {'header': headers,\n",
    "     'coef': coef,\n",
    "    })\n",
    "significant_coefs = lasso_coef[(lasso_coef.coef >= 10) | (lasso_coef.coef <= -10)]\n",
    "print(significant_coefs)"
   ]
  },
  {
   "cell_type": "code",
   "execution_count": null,
   "metadata": {},
   "outputs": [],
   "source": [
    "### cross-validation for the square mean error\n",
    "### re-running predictive models on the events (aggregate) data\n",
    "## cross-valisation and grid searcg\n",
    "### rmse - scikit"
   ]
  }
 ],
 "metadata": {
  "kernelspec": {
   "display_name": "Python 3",
   "language": "python",
   "name": "python3"
  },
  "language_info": {
   "codemirror_mode": {
    "name": "ipython",
    "version": 3
   },
   "file_extension": ".py",
   "mimetype": "text/x-python",
   "name": "python",
   "nbconvert_exporter": "python",
   "pygments_lexer": "ipython3",
   "version": "3.6.4"
  }
 },
 "nbformat": 4,
 "nbformat_minor": 2
}
